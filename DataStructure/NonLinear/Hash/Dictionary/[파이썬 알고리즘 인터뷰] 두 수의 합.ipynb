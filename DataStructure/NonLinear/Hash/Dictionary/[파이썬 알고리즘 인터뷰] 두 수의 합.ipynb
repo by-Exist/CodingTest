{
 "cells": [
  {
   "cell_type": "markdown",
   "metadata": {},
   "source": [
    "# \\[파이썬 알고리즘 인터뷰] 두 수의 합\n",
    "2021-12-03"
   ]
  },
  {
   "cell_type": "markdown",
   "metadata": {},
   "source": [
    "## ? Question\n",
    "\n",
    "덧셈하여 타겟을 만들 수 있는 배열 내 두 숫자의 인덱스를 리턴하라.\n",
    "\n",
    "Input\n",
    "\n",
    "    nums = [2, 7, 11, 15]\n",
    "    target = 9\n",
    "\n",
    "Output\n",
    "\n",
    "    [0, 1]"
   ]
  },
  {
   "cell_type": "markdown",
   "metadata": {},
   "source": [
    "## ! Solution"
   ]
  },
  {
   "cell_type": "code",
   "execution_count": 11,
   "metadata": {},
   "outputs": [
    {
     "data": {
      "text/plain": [
       "[0, 1]"
      ]
     },
     "execution_count": 11,
     "metadata": {},
     "output_type": "execute_result"
    }
   ],
   "source": [
    "nums = [2, 7, 11, 15]\n",
    "target = 9\n",
    "\n",
    "def solution(nums: list[int], target: int) -> list[int]:\n",
    "    num_index_map = {}\n",
    "\n",
    "    for index, num in enumerate(nums):\n",
    "        if target-num in num_index_map:\n",
    "            return [num_index_map[target-num], index]\n",
    "        num_index_map[num] = index\n",
    "\n",
    "solution(nums, target)"
   ]
  },
  {
   "cell_type": "markdown",
   "metadata": {},
   "source": [
    "## … Memo\n",
    "\n",
    "- 문제에 함정이 있다. 바로 'nums'가 정렬되어 있다는 조건이 없다는 것. 값을 구하는 문제라면 정렬해버리고 투포인터로도 풀 수 있다. 그러나 값이 아닌 인덱스를 구하는 문제이며, 정렬할 경우 인덱스가 망가지기 때문에 시간을 허비할 것이 분명하다. 조심하자."
   ]
  }
 ],
 "metadata": {
  "interpreter": {
   "hash": "c2628c66a632ba2b69e6a5b3a4dad634af81f317f443884fc2584f16d8e329ae"
  },
  "kernelspec": {
   "display_name": "Python 3.9.6 64-bit ('fastapi': conda)",
   "language": "python",
   "name": "python3"
  },
  "language_info": {
   "codemirror_mode": {
    "name": "ipython",
    "version": 3
   },
   "file_extension": ".py",
   "mimetype": "text/x-python",
   "name": "python",
   "nbconvert_exporter": "python",
   "pygments_lexer": "ipython3",
   "version": "3.9.6"
  },
  "orig_nbformat": 4
 },
 "nbformat": 4,
 "nbformat_minor": 2
}
