{
 "cells": [
  {
   "cell_type": "markdown",
   "metadata": {},
   "source": [
    "# \\[파이썬 알고리즘 인터뷰] 스택을 이용한 큐 구현\n",
    "2021-12-21"
   ]
  },
  {
   "cell_type": "markdown",
   "metadata": {},
   "source": [
    "## ? Question\n",
    "\n",
    "스택을 이용해 다음 연산을 지원하는 큐를 구현하라."
   ]
  },
  {
   "cell_type": "markdown",
   "metadata": {},
   "source": [
    "## ! Solution"
   ]
  },
  {
   "cell_type": "code",
   "execution_count": 5,
   "metadata": {},
   "outputs": [],
   "source": [
    "from collections import UserList\n",
    "\n",
    "\n",
    "class Stack(UserList):\n",
    "\n",
    "    def push(self, x):\n",
    "        self.data.append(x)\n",
    "    \n",
    "    def pop(self):\n",
    "        return self.data.pop()\n",
    "\n",
    "\n",
    "class Queue:\n",
    "\n",
    "    def __init__(self):\n",
    "        self._in = Stack()\n",
    "        self._out = Stack()\n",
    "\n",
    "    def push(self, x):\n",
    "        self._in.push(x)\n",
    "    \n",
    "    def _process(self):\n",
    "        # 이 부분이 스택 두 개를 활용한 큐 구현의 핵심이다.\n",
    "        if not self._out:\n",
    "            while self._in:\n",
    "                self._out.push(self._in.pop())\n",
    "    \n",
    "    def pop(self):\n",
    "        self._process()\n",
    "        return self._out.pop()\n",
    "\n",
    "    def peek(self):\n",
    "        self._process()\n",
    "        return self._out[-1]\n",
    "\n",
    "    def empty(self):\n",
    "        return not self._in and not self._out\n",
    "\n",
    "\n",
    "if __name__ == \"__main__\":\n",
    "\n",
    "    queue = Queue()\n",
    "\n",
    "    queue.push(1)\n",
    "    queue.push(2)\n",
    "    assert queue.peek() == 1\n",
    "    assert queue.pop() == 1\n",
    "    assert queue.empty() == False"
   ]
  },
  {
   "cell_type": "markdown",
   "metadata": {},
   "source": [
    "## … Memo\n",
    "\n",
    "스택 두 개를 활용해야 한다는 점은 알아챘다. 1-2-3을 다음번 스택에 옮겨 담으면 3-2-1이 되기 때문. 그러나 in을 쌓아두면서 out이 비어있을 때에만 in을 out으로 옮겨 담으면 된다는 점을 알아채지 못했다. 혹여나 스택으로 큐를 구현하라는 문제가 나온다면 다음 두 가지를 명시하자.\n",
    "\n",
    "- 스택으로 큐를 구현하려면 2개의 스택(in, out)이 필요하다.\n",
    "- pop 시 out이 비어있을 때 in을 out으로 옮겨담는다.\n",
    "\n",
    "위 코드에 익숙해지는 것이 좋겠다."
   ]
  }
 ],
 "metadata": {
  "interpreter": {
   "hash": "c2628c66a632ba2b69e6a5b3a4dad634af81f317f443884fc2584f16d8e329ae"
  },
  "kernelspec": {
   "display_name": "Python 3.9.6 64-bit ('fastapi': conda)",
   "language": "python",
   "name": "python3"
  },
  "language_info": {
   "codemirror_mode": {
    "name": "ipython",
    "version": 3
   },
   "file_extension": ".py",
   "mimetype": "text/x-python",
   "name": "python",
   "nbconvert_exporter": "python",
   "pygments_lexer": "ipython3",
   "version": "3.9.6"
  },
  "orig_nbformat": 4
 },
 "nbformat": 4,
 "nbformat_minor": 2
}
