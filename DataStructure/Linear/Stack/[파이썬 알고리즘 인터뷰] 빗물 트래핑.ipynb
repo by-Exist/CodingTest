{
 "cells": [
  {
   "cell_type": "markdown",
   "metadata": {},
   "source": [
    "# \\[파이썬 알고리즘 인터뷰] 빗물 트래핑\n",
    "2021-12-04"
   ]
  },
  {
   "cell_type": "markdown",
   "metadata": {},
   "source": [
    "## ? Question\n",
    "\n",
    "높이를 입력받아 비가 온 후 얼마나 많은 물이 고일 수 있는지 계산하라.\n",
    "\n",
    "Input\n",
    "\n",
    "    [2, 0, 1, 0]\n",
    "\n",
    "Output\n",
    "\n",
    "    1\n",
    "    (2와 1 사이에 높이 1 만큼의 물이 고인다.)"
   ]
  },
  {
   "cell_type": "markdown",
   "metadata": {},
   "source": [
    "## ! Solution"
   ]
  },
  {
   "cell_type": "code",
   "execution_count": 41,
   "metadata": {},
   "outputs": [
    {
     "data": {
      "text/plain": [
       "6"
      ]
     },
     "execution_count": 41,
     "metadata": {},
     "output_type": "execute_result"
    }
   ],
   "source": [
    "input_height_list = [0, 1, 0, 2, 1, 0, 1, 3, 2, 1, 2, 1]\n",
    "\n",
    "def solution(height_list: list[int]) -> int:\n",
    "    \n",
    "    stack = []\n",
    "    volume = 0\n",
    "\n",
    "    for right_line_index, right_line_height in enumerate(height_list):\n",
    "        \n",
    "        while True:\n",
    "            \n",
    "            # U자의 바닥 선을 그엇음을 보장\n",
    "            if not stack:\n",
    "                break\n",
    "\n",
    "            # U자의 오른쪽 선을 그엇음을 보장\n",
    "            if not right_line_height > stack[-1][1]:\n",
    "                break\n",
    "\n",
    "            bottom_index, bottom_height = stack.pop()\n",
    "\n",
    "            # U자의 왼쪽 선을 그엇음을 보장\n",
    "            if not stack:\n",
    "                break\n",
    "            left_line_index, left_line_height = stack[-1]\n",
    "            if bottom_height == left_line_height:\n",
    "                continue\n",
    "\n",
    "            # 몰이 고일 너비 = 왼쪽선과 오른쪽선 사이의 간격\n",
    "            between_space = (right_line_index - left_line_index) - 1\n",
    "            # 물의 높이 = min(왼쪽높이, 오른쪽높이) - 바닥높이\n",
    "            water_height = min(left_line_height, right_line_height) - bottom_height\n",
    "            volume += between_space * water_height\n",
    "        \n",
    "        stack.append((right_line_index, right_line_height))\n",
    "    \n",
    "    return volume\n",
    "\n",
    "solution(input_height_list)"
   ]
  },
  {
   "cell_type": "markdown",
   "metadata": {},
   "source": [
    "## … Memo"
   ]
  },
  {
   "cell_type": "markdown",
   "metadata": {},
   "source": [
    "스택을 활용한 풀이. 풀이의 핵심은 다음과 같다.\n",
    "- 3개의 직선으로 U자가 그려져야 물이 고인다\n",
    "- 물의 높이는 min(왼쪽높이,오른쪽높이)-바닥높이이다\n",
    "- 물의 너비는 오른쪽인덱스-왼쪽인덱스-1이다\n",
    "- 단일 U자에서 물의 양은 물의 깊이 * 너비이다\n",
    "\n",
    "예로 들어, [3, 2, 1, 2, 5]이 전달되었을 때\n",
    "- 2, 1, 2 사이에 1*1의 U를 그릴 수 있다.\n",
    "- 그 위를 덮듯이 3 ~ 5 사이에 3*1의 넙적한 U를 그릴 수 있다.\n",
    "\n",
    "솔직히 해당 문제는 위의 개념을 이해하고 있어도 이를 로직으로 구현하지 못해서 틀릴 것 같다.\n",
    "\n",
    "높이가 상승세일 때 마다 가운데 막대를 제거해가며 U자를 그리는 막대 3개를 찾아가는 방식을 바로 떠올릴 수 있을까...?"
   ]
  }
 ],
 "metadata": {
  "interpreter": {
   "hash": "c2628c66a632ba2b69e6a5b3a4dad634af81f317f443884fc2584f16d8e329ae"
  },
  "kernelspec": {
   "display_name": "Python 3.9.6 64-bit ('fastapi': conda)",
   "language": "python",
   "name": "python3"
  },
  "language_info": {
   "codemirror_mode": {
    "name": "ipython",
    "version": 3
   },
   "file_extension": ".py",
   "mimetype": "text/x-python",
   "name": "python",
   "nbconvert_exporter": "python",
   "pygments_lexer": "ipython3",
   "version": "3.9.6"
  },
  "orig_nbformat": 4
 },
 "nbformat": 4,
 "nbformat_minor": 2
}
