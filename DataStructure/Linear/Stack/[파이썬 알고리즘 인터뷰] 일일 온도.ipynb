{
 "cells": [
  {
   "cell_type": "markdown",
   "metadata": {},
   "source": [
    "# \\[파이썬 알고리즘 인터뷰] 일일 온도\n",
    "2021-12-21"
   ]
  },
  {
   "cell_type": "markdown",
   "metadata": {},
   "source": [
    "## ? Question\n",
    "\n",
    "일일 화씨 온도(F)로 구성된 리스트를 입력받는다. 더 따뜻한 날씨를 위해 며칠을 더 기다려야 하는지를 출력하라.\n",
    "\n",
    "Input\n",
    "\n",
    "    [73, 74, 75, 71, 69, 72, 76, 73]\n",
    "\n",
    "Output\n",
    "\n",
    "    [1, 1, 4, 2, 1, 1, 0, 0]"
   ]
  },
  {
   "cell_type": "markdown",
   "metadata": {},
   "source": [
    "## ! Solution"
   ]
  },
  {
   "cell_type": "code",
   "execution_count": 3,
   "metadata": {},
   "outputs": [
    {
     "data": {
      "text/plain": [
       "[1, 1, 4, 2, 1, 1, 0, 0]"
      ]
     },
     "execution_count": 3,
     "metadata": {},
     "output_type": "execute_result"
    }
   ],
   "source": [
    "input_data = [73, 74, 75, 71, 69, 72, 76, 73]\n",
    "\n",
    "\n",
    "def solution(data: list[int]):\n",
    "    result = [0 for _ in range(len(data))]\n",
    "    stack = []\n",
    "\n",
    "    for index, cur in enumerate(data):\n",
    "        while stack and cur > data[stack[-1]]:\n",
    "            last_index = stack.pop()\n",
    "            result[last_index] = index - last_index\n",
    "        stack.append(index)\n",
    "\n",
    "    return result\n",
    "\n",
    "\n",
    "solution(input_data)"
   ]
  },
  {
   "cell_type": "markdown",
   "metadata": {},
   "source": [
    "## … Memo\n",
    "\n",
    "하락세가 이어지는 경우 지속해서 스택에 인덱스를 추가한다.\n",
    "\n",
    "상승세가 등장하면 현재 온도가 지난 온도보다 높은 동안 stack에서 pop을 해가며 인덱스 거리를 기록한다."
   ]
  }
 ],
 "metadata": {
  "interpreter": {
   "hash": "c2628c66a632ba2b69e6a5b3a4dad634af81f317f443884fc2584f16d8e329ae"
  },
  "kernelspec": {
   "display_name": "Python 3.9.6 64-bit ('fastapi': conda)",
   "language": "python",
   "name": "python3"
  },
  "language_info": {
   "codemirror_mode": {
    "name": "ipython",
    "version": 3
   },
   "file_extension": ".py",
   "mimetype": "text/x-python",
   "name": "python",
   "nbconvert_exporter": "python",
   "pygments_lexer": "ipython3",
   "version": "3.9.6"
  },
  "orig_nbformat": 4
 },
 "nbformat": 4,
 "nbformat_minor": 2
}
