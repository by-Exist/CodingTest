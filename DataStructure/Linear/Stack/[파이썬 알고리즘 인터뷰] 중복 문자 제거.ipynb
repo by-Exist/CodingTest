{
 "cells": [
  {
   "cell_type": "markdown",
   "metadata": {},
   "source": [
    "# \\[파이썬 알고리즘 인터뷰] 중복 문자 제거\n",
    "2021-12-20"
   ]
  },
  {
   "cell_type": "markdown",
   "metadata": {},
   "source": [
    "## ? Question\n",
    "\n",
    "주어진 문자열의 중복된 문자를 제거하여 생성될 수 있는 문자열 중 사전식 순서로 가장 빠른 문자열을 출력하라.\n",
    "\n",
    "Input\n",
    "\n",
    "    \"cbacdcbc\"\n",
    "\n",
    "Output\n",
    "\n",
    "    \"acdb\""
   ]
  },
  {
   "cell_type": "markdown",
   "metadata": {},
   "source": [
    "## ! Solution"
   ]
  },
  {
   "cell_type": "code",
   "execution_count": 22,
   "metadata": {},
   "outputs": [
    {
     "data": {
      "text/plain": [
       "'acdb'"
      ]
     },
     "execution_count": 22,
     "metadata": {},
     "output_type": "execute_result"
    }
   ],
   "source": [
    "from collections import Counter\n",
    "\n",
    "input_string = \"cbacdcbc\"\n",
    "\n",
    "def solution(string):\n",
    "    \n",
    "    count, used, stack = Counter(string), set(), []\n",
    "\n",
    "    for char in string:\n",
    "\n",
    "        count[char] -= 1\n",
    "\n",
    "        if char in used:\n",
    "            continue\n",
    "\n",
    "        while stack and char < stack[-1] and count[stack[-1]] > 0:\n",
    "            used.remove(stack.pop())\n",
    "\n",
    "        stack.append(char)\n",
    "        used.add(char)\n",
    "    \n",
    "    return \"\".join(stack)\n",
    "\n",
    "solution(input_string)"
   ]
  },
  {
   "cell_type": "markdown",
   "metadata": {},
   "source": [
    "## … Memo\n",
    "\n",
    "설명을 유심히 살펴보며 다음과 같은 점을 정리할 수 있어야 한다.\n",
    "\n",
    "- s[i]는 이전에 사용된 적이 없어야 한다.\n",
    "- s[i] < s[i-1] and s[i-1] in s[i+1:] 일 경우 s[i-1]은 무시된다.\n",
    "\n",
    "위의 두 가지 조건을 코드로 풀어낼 경우 풀이할 수 있다."
   ]
  }
 ],
 "metadata": {
  "interpreter": {
   "hash": "c2628c66a632ba2b69e6a5b3a4dad634af81f317f443884fc2584f16d8e329ae"
  },
  "kernelspec": {
   "display_name": "Python 3.9.6 64-bit ('fastapi': conda)",
   "language": "python",
   "name": "python3"
  },
  "language_info": {
   "codemirror_mode": {
    "name": "ipython",
    "version": 3
   },
   "file_extension": ".py",
   "mimetype": "text/x-python",
   "name": "python",
   "nbconvert_exporter": "python",
   "pygments_lexer": "ipython3",
   "version": "3.9.6"
  },
  "orig_nbformat": 4
 },
 "nbformat": 4,
 "nbformat_minor": 2
}
