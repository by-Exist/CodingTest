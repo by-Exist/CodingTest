{
 "cells": [
  {
   "cell_type": "markdown",
   "metadata": {},
   "source": [
    "# \\[파이썬 알고리즘 인터뷰] 큐를 이용한 스택 구현\n",
    "2021-12-21"
   ]
  },
  {
   "cell_type": "markdown",
   "metadata": {},
   "source": [
    "## ? Question\n",
    "\n",
    "Queue를 이용해 다음 연산을 지원하는 스택을 구현하라.\n",
    "\n",
    "- push(x) : 요소 x를 스택에 삽입한다.\n",
    "- pop() : 스택의 첫 번째 요소를 삭제한다.\n",
    "- top() : 스택의 첫 번째 요소를 가져온다.\n",
    "- empty() : 스택이 비어 있는지의 여부를 리턴한다.\n",
    "\n",
    "```\n",
    "    stack = Stack()\n",
    "\n",
    "    stack.push(1)\n",
    "    stack.push(2)\n",
    "    stack.top()  # 2\n",
    "    stack.pop()  # 2\n",
    "    stack.empty()  # false\n",
    "```"
   ]
  },
  {
   "cell_type": "markdown",
   "metadata": {},
   "source": [
    "## ! Solution"
   ]
  },
  {
   "cell_type": "code",
   "execution_count": 32,
   "metadata": {},
   "outputs": [],
   "source": [
    "# 기존 풀이는 deque의 popleft를 사용하는 방식으로 쓰더라. Queue가 deque로 구현되어 있기는 하다.\n",
    "# 그러나 본인은 Queue와 deque를 다른 추상 자료구조로 생각한다.\n",
    "from queue import Queue\n",
    "\n",
    "\n",
    "class Stack:\n",
    "\n",
    "    def __init__(self):\n",
    "        self._queue = Queue()\n",
    "    \n",
    "    def push(self, value):\n",
    "        # 책을 도미노처럼 세운다고 상상하면 쉽다.\n",
    "        new_queue = Queue()\n",
    "        new_queue.put(value)\n",
    "        while not self._queue.empty():\n",
    "            new_queue.put(self._queue.get())\n",
    "        self._queue = new_queue\n",
    "    \n",
    "    def pop(self):\n",
    "        return self._queue.get()\n",
    "    \n",
    "    def top(self):\n",
    "        # return self._queue.queue[0]로도 해결할 수 있다. (deque는 인덱싱을 지원한다)\n",
    "        # 그러나 Queue.queue는 deque이며 Queue를 활용했다고 보기 어렵다고 생각한다.\n",
    "        # Queue.queue(deque)를 사용하지 않겠다고 결정했으며\n",
    "        # top 로직을 비효율적으로 구현할 수 밖에 없다.\n",
    "        result = self.pop()\n",
    "        self.push(result)\n",
    "        return result\n",
    "\n",
    "    def empty(self):\n",
    "        return self._queue.empty()\n",
    "\n",
    "\n",
    "if __name__ == \"__main__\":\n",
    "\n",
    "    stack = Stack()\n",
    "\n",
    "    stack.push(1)\n",
    "    stack.push(2)\n",
    "    stack.push(3)\n",
    "    \n",
    "    assert stack.top() == 3\n",
    "    assert stack.pop() == 3\n",
    "    assert stack.empty() == False"
   ]
  },
  {
   "cell_type": "markdown",
   "metadata": {},
   "source": [
    "## … Memo\n",
    "\n",
    "삽입 할 때 마다 새로운 큐를 만들고 값을 넣은 뒤 기존 값을 집어넣으면 스택처럼 동작한다는 점을 알아챌 수 있어야 한다."
   ]
  }
 ],
 "metadata": {
  "interpreter": {
   "hash": "c2628c66a632ba2b69e6a5b3a4dad634af81f317f443884fc2584f16d8e329ae"
  },
  "kernelspec": {
   "display_name": "Python 3.9.6 64-bit ('fastapi': conda)",
   "language": "python",
   "name": "python3"
  },
  "language_info": {
   "codemirror_mode": {
    "name": "ipython",
    "version": 3
   },
   "file_extension": ".py",
   "mimetype": "text/x-python",
   "name": "python",
   "nbconvert_exporter": "python",
   "pygments_lexer": "ipython3",
   "version": "3.9.6"
  },
  "orig_nbformat": 4
 },
 "nbformat": 4,
 "nbformat_minor": 2
}
