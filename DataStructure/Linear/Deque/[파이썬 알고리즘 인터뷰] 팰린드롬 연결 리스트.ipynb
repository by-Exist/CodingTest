{
 "cells": [
  {
   "cell_type": "markdown",
   "metadata": {},
   "source": [
    "# \\[파이썬 알고리즘 인터뷰] 팰린드롬 연결 리스트\n",
    "2021-12-06"
   ]
  },
  {
   "cell_type": "markdown",
   "metadata": {},
   "source": [
    "## ? Question\n",
    "\n",
    "연결 리스트가 팰린드롬 구조인지 판별하라.\n",
    "\n",
    "Input\n",
    "\n",
    "    1 -> 2 -> 1\n",
    "\n",
    "Output\n",
    "\n",
    "    true"
   ]
  },
  {
   "cell_type": "markdown",
   "metadata": {},
   "source": [
    "## ! Solution"
   ]
  },
  {
   "cell_type": "code",
   "execution_count": 14,
   "metadata": {},
   "outputs": [],
   "source": [
    "from __future__ import annotations\n",
    "\n",
    "class Node:\n",
    "\n",
    "    def __init__(self, value: int = None, next: Node = None):\n",
    "        self.value = value\n",
    "        self.next = next\n",
    "\n",
    "    def __repr__(self) -> str:\n",
    "        return f\"Node({self.value}, {self.next})\"\n",
    "\n",
    "def build_linked_list(iter):\n",
    "    nodes = []\n",
    "    for index, value in enumerate(iter):\n",
    "        node = Node(value, None)\n",
    "        if not index == 0:\n",
    "            nodes[-1].next = node\n",
    "        nodes.append(node)\n",
    "    return nodes[0]"
   ]
  },
  {
   "cell_type": "code",
   "execution_count": 24,
   "metadata": {},
   "outputs": [
    {
     "data": {
      "text/plain": [
       "True"
      ]
     },
     "execution_count": 24,
     "metadata": {},
     "output_type": "execute_result"
    }
   ],
   "source": [
    "from collections import deque\n",
    "\n",
    "data = [1, 2, 3, 4, 3, 2, 1]\n",
    "input_head_node = build_linked_list(data)\n",
    "\n",
    "def solution(head_node: Node):\n",
    "    deq = deque()\n",
    "    while head_node:\n",
    "        deq.append(head_node.value)\n",
    "        head_node = head_node.next\n",
    "    \n",
    "    while deq and deq[0] == deq[-1]:\n",
    "        deq.pop()\n",
    "        if deq:\n",
    "            deq.popleft()\n",
    "    \n",
    "    return not deq\n",
    "\n",
    "solution(input_head_node)"
   ]
  },
  {
   "cell_type": "markdown",
   "metadata": {},
   "source": [
    "## … Memo\n",
    "\n",
    "collections.deque를 활용한 풀이.\n",
    "\n",
    "linked list를 collections.deque로 변환하여 첫 요소와 끝 요소가 동일할 동안 첫 요소와 끝 요소를 제거해가며 deque가 비었음을 확인하면 풀이할 수 있다."
   ]
  }
 ],
 "metadata": {
  "interpreter": {
   "hash": "c2628c66a632ba2b69e6a5b3a4dad634af81f317f443884fc2584f16d8e329ae"
  },
  "kernelspec": {
   "display_name": "Python 3.9.6 64-bit ('fastapi': conda)",
   "language": "python",
   "name": "python3"
  },
  "language_info": {
   "codemirror_mode": {
    "name": "ipython",
    "version": 3
   },
   "file_extension": ".py",
   "mimetype": "text/x-python",
   "name": "python",
   "nbconvert_exporter": "python",
   "pygments_lexer": "ipython3",
   "version": "3.9.6"
  },
  "orig_nbformat": 4
 },
 "nbformat": 4,
 "nbformat_minor": 2
}
