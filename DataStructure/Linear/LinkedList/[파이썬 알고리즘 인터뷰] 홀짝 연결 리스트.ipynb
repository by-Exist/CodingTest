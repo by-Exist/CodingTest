{
 "cells": [
  {
   "cell_type": "markdown",
   "metadata": {},
   "source": [
    "# \\[파이썬 알고리즘 인터뷰] 홀짝 연결 리스트\n",
    "2021-12-19"
   ]
  },
  {
   "cell_type": "markdown",
   "metadata": {},
   "source": [
    "## ? Question\n",
    "\n",
    "연결 리스트를 홀수 노드 다음에 짝수 노드가 오도록 재구성하라.\n",
    "\n",
    "공간복잡도 O(1), 시간 복잡도 O(n)에 풀이하라.\n",
    "\n",
    "Input\n",
    "\n",
    "    1 -> 2 -> 3 -> 4 -> 5 -> None\n",
    "\n",
    "Output\n",
    "\n",
    "    1 -> 3 -> 5 -> 2 -> 4 -> None"
   ]
  },
  {
   "cell_type": "markdown",
   "metadata": {},
   "source": [
    "## ! Solution"
   ]
  },
  {
   "cell_type": "code",
   "execution_count": 14,
   "metadata": {},
   "outputs": [],
   "source": [
    "from __future__ import annotations\n",
    "\n",
    "\n",
    "class Node:\n",
    "\n",
    "    def __init__(self, value, next: Node = None):\n",
    "        self.value = value\n",
    "        self.next = next\n",
    "\n",
    "    def __repr__(self) -> str:\n",
    "        return f\"Node({self.value}, {self.next})\"\n",
    "\n",
    "\n",
    "def build_linked_list(iter):\n",
    "    temp = before = Node(...)\n",
    "    for e in iter:\n",
    "        before.next = Node(value=e)\n",
    "        before = before.next\n",
    "    return temp.next"
   ]
  },
  {
   "cell_type": "code",
   "execution_count": 15,
   "metadata": {},
   "outputs": [
    {
     "data": {
      "text/plain": [
       "Node(1, Node(3, Node(5, Node(2, Node(4, None)))))"
      ]
     },
     "execution_count": 15,
     "metadata": {},
     "output_type": "execute_result"
    }
   ],
   "source": [
    "input_data = [1, 2, 3, 4, 5]\n",
    "\n",
    "input_linked_list = build_linked_list(input_data)\n",
    "\n",
    "def solution(head: Node | None):\n",
    "\n",
    "    if not head:\n",
    "        return None\n",
    "\n",
    "    odd, even = odd_start, even_start = head, head.next\n",
    "\n",
    "    while even and even.next:\n",
    "        odd.next, even.next = odd.next.next, even.next.next\n",
    "        odd, even = odd.next, even.next\n",
    "\n",
    "    odd.next = even_start\n",
    "\n",
    "    return head\n",
    "\n",
    "solution(input_linked_list)"
   ]
  },
  {
   "cell_type": "markdown",
   "metadata": {},
   "source": [
    "## … Memo\n",
    "\n",
    "while문의 조건만 고민한다면 큰 어려움 없이 풀이할 수 있는 문제이다."
   ]
  }
 ],
 "metadata": {
  "interpreter": {
   "hash": "c2628c66a632ba2b69e6a5b3a4dad634af81f317f443884fc2584f16d8e329ae"
  },
  "kernelspec": {
   "display_name": "Python 3.9.6 64-bit ('fastapi': conda)",
   "language": "python",
   "name": "python3"
  },
  "language_info": {
   "codemirror_mode": {
    "name": "ipython",
    "version": 3
   },
   "file_extension": ".py",
   "mimetype": "text/x-python",
   "name": "python",
   "nbconvert_exporter": "python",
   "pygments_lexer": "ipython3",
   "version": "3.9.6"
  },
  "orig_nbformat": 4
 },
 "nbformat": 4,
 "nbformat_minor": 2
}
