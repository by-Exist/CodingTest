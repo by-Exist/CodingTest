{
 "cells": [
  {
   "cell_type": "markdown",
   "metadata": {},
   "source": [
    "# \\[파이썬 알고리즘 인터뷰] 팰린드롬 연결 리스트\n",
    "2021-12-06"
   ]
  },
  {
   "cell_type": "markdown",
   "metadata": {},
   "source": [
    "## ? Question\n",
    "\n",
    "연결 리스트가 팰린드롬 구조인지 판별하라.\n",
    "\n",
    "Input\n",
    "\n",
    "    1 -> 2 -> 1\n",
    "\n",
    "Output\n",
    "\n",
    "    true"
   ]
  },
  {
   "cell_type": "markdown",
   "metadata": {},
   "source": [
    "## ! Solution"
   ]
  },
  {
   "cell_type": "code",
   "execution_count": 14,
   "metadata": {},
   "outputs": [],
   "source": [
    "from __future__ import annotations\n",
    "\n",
    "class Node:\n",
    "\n",
    "    def __init__(self, value: int = None, next: Node = None):\n",
    "        self.value = value\n",
    "        self.next = next\n",
    "\n",
    "    def __repr__(self) -> str:\n",
    "        return f\"Node({self.value}, {self.next})\"\n",
    "\n",
    "def build_linked_list(iter):\n",
    "    nodes = []\n",
    "    for index, value in enumerate(iter):\n",
    "        node = Node(value, None)\n",
    "        if not index == 0:\n",
    "            nodes[-1].next = node\n",
    "        nodes.append(node)\n",
    "    return nodes[0]"
   ]
  },
  {
   "cell_type": "code",
   "execution_count": 42,
   "metadata": {},
   "outputs": [
    {
     "data": {
      "text/plain": [
       "True"
      ]
     },
     "execution_count": 42,
     "metadata": {},
     "output_type": "execute_result"
    }
   ],
   "source": [
    "data = [1, 2, 3, 4, 4, 3, 2, 1]\n",
    "input_head_node = build_linked_list(data)\n",
    "\n",
    "# 개인 풀이 방식\n",
    "def solution(head_node: Node):\n",
    "    \n",
    "    faster = head_node\n",
    "    slower = head_node\n",
    "    slower_passed_values = []\n",
    "\n",
    "    while faster:\n",
    "\n",
    "        slower_passed_values.append(slower.value)\n",
    "\n",
    "        if not faster.next:\n",
    "            slower = slower.next\n",
    "            slower_passed_values.pop()\n",
    "            break\n",
    "        faster = faster.next.next\n",
    "        slower = slower.next\n",
    "    \n",
    "    while slower_passed_values and slower_passed_values[-1] == slower.value:\n",
    "        slower_passed_values.pop()\n",
    "        slower = slower.next\n",
    "    \n",
    "    return not slower_passed_values\n",
    "\n",
    "solution(input_head_node)"
   ]
  },
  {
   "cell_type": "markdown",
   "metadata": {},
   "source": [
    "## … Memo\n",
    "\n",
    "러너 기법을 활용한 풀이. 1의 속도로 전진하는 포인터(slower)와 2의 속도로 전진하는 포인터(faster)를 두어 faster가 끝에 다다랐을 때 slower가 중간 지점에 있음을 활용한 패턴이다. linked list 문제 풀이에서 자주 사용되는 기법이라고 한다.\n",
    "\n",
    "```\n",
    "[0 -> 1 -> 2 -> 3 -> 4 -> 5 -> None]\n",
    "faster = 0 2 4 None   (faster가 None에 도달한 경우)\n",
    "slower = 0 1 2 -      (= slower는 linked list의 중간 직전 요소까지 도달)\n",
    "\n",
    "[0 -> 1 -> 2 -> 3 -> 4 -> 5 -> 6 -> None]\n",
    "faster = 0 2 4 6 !    (faster.next가 None인 경우)\n",
    "slower = 0 1 2 3 -    (= slower는 linked list의 중간 요소에 도달)\n",
    "```"
   ]
  }
 ],
 "metadata": {
  "interpreter": {
   "hash": "c2628c66a632ba2b69e6a5b3a4dad634af81f317f443884fc2584f16d8e329ae"
  },
  "kernelspec": {
   "display_name": "Python 3.9.6 64-bit ('fastapi': conda)",
   "language": "python",
   "name": "python3"
  },
  "language_info": {
   "codemirror_mode": {
    "name": "ipython",
    "version": 3
   },
   "file_extension": ".py",
   "mimetype": "text/x-python",
   "name": "python",
   "nbconvert_exporter": "python",
   "pygments_lexer": "ipython3",
   "version": "3.9.6"
  },
  "orig_nbformat": 4
 },
 "nbformat": 4,
 "nbformat_minor": 2
}
