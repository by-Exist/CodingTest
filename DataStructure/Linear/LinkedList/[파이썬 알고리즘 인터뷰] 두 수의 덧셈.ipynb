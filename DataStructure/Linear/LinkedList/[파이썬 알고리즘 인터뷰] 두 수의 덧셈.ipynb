{
 "cells": [
  {
   "cell_type": "markdown",
   "metadata": {},
   "source": [
    "# \\[파이썬 알고리즘 인터뷰] 두 수의 덧셈\n",
    "2021-12-09"
   ]
  },
  {
   "cell_type": "markdown",
   "metadata": {},
   "source": [
    "## ? Question\n",
    "\n",
    "역순으로 저장된 연결 리스트의 숫자를 더하라.\n",
    "\n",
    "Input\n",
    "\n",
    "    (2 -> 4 -> 3) + (5 -> 6 -> 4)\n",
    "\n",
    "Output\n",
    "\n",
    "    7 -> 0 -> 8\n",
    "\n",
    "    (342 + 465 = 807)"
   ]
  },
  {
   "cell_type": "markdown",
   "metadata": {},
   "source": [
    "## ! Solution"
   ]
  },
  {
   "cell_type": "code",
   "execution_count": 9,
   "metadata": {},
   "outputs": [],
   "source": [
    "from __future__ import annotations\n",
    "\n",
    "\n",
    "class Node:\n",
    "\n",
    "    def __init__(self, value: int, next: Node = None) -> None:\n",
    "        self.value = value\n",
    "        self.next = next\n",
    "\n",
    "    def __repr__(self) -> str:\n",
    "        return f\"Node({self.value}, {self.next})\"\n",
    "\n",
    "\n",
    "def build_linked_list(iter):\n",
    "\n",
    "    head: Node = None\n",
    "    before_node: Node = None\n",
    "\n",
    "    for value in iter:\n",
    "        node = Node(value)\n",
    "        if not head:\n",
    "            head = node\n",
    "        if before_node:\n",
    "            before_node.next = node\n",
    "        before_node = node\n",
    "\n",
    "    return head"
   ]
  },
  {
   "cell_type": "code",
   "execution_count": 10,
   "metadata": {},
   "outputs": [
    {
     "data": {
      "text/plain": [
       "Node(7, Node(0, Node(8, None)))"
      ]
     },
     "execution_count": 10,
     "metadata": {},
     "output_type": "execute_result"
    }
   ],
   "source": [
    "data1 = [2, 4, 3]\n",
    "data2 = [5, 6, 4]\n",
    "\n",
    "l1 = build_linked_list(data1)\n",
    "l2 = build_linked_list(data2)\n",
    "\n",
    "def solution(f: Node, s: Node):\n",
    "    \n",
    "    temp = Node(0)\n",
    "    prev = temp\n",
    "    \n",
    "    carry = 0\n",
    "\n",
    "    while f or s or carry:\n",
    "        sum_value = 0\n",
    "\n",
    "        if f:\n",
    "            sum_value += f.value\n",
    "            f = f.next\n",
    "        if s:\n",
    "            sum_value += s.value\n",
    "            s = s.next\n",
    "        sum_value += carry\n",
    "\n",
    "        carry, val = divmod(sum_value, 10)\n",
    "        prev.next = Node(val)\n",
    "        prev = prev.next\n",
    "    \n",
    "    return temp.next\n",
    "\n",
    "solution(l1, l2)"
   ]
  },
  {
   "cell_type": "markdown",
   "metadata": {},
   "source": [
    "## … Memo\n",
    "\n",
    "```\n",
    "  2 4 3\n",
    "+ 5 6 4\n",
    "=> 7 10 7\n",
    "=> 7 0 7+1\n",
    "=  7 0 8\n",
    "```\n",
    "\n",
    "위와 같은 과정을 코드로 구현하기만 하면 된다. 전가산기를 구현한다고 말하는데, 어릴 적 덧셈 푸는 방식이 전가산기 방식인 듯 하다.\n",
    "\n",
    "아래 두 가지는 기억해 둘 만 하다.\n",
    "- 자릿수가 일정하지 않을 때를 위해 while문의 조건(l1 or l2 or carry)를 설정한 점\n",
    "- 버릴 요량의 temp node를 생성해 temp.next를 반환한다는 점"
   ]
  }
 ],
 "metadata": {
  "interpreter": {
   "hash": "c2628c66a632ba2b69e6a5b3a4dad634af81f317f443884fc2584f16d8e329ae"
  },
  "kernelspec": {
   "display_name": "Python 3.9.6 64-bit ('fastapi': conda)",
   "language": "python",
   "name": "python3"
  },
  "language_info": {
   "codemirror_mode": {
    "name": "ipython",
    "version": 3
   },
   "file_extension": ".py",
   "mimetype": "text/x-python",
   "name": "python",
   "nbconvert_exporter": "python",
   "pygments_lexer": "ipython3",
   "version": "3.9.6"
  },
  "orig_nbformat": 4
 },
 "nbformat": 4,
 "nbformat_minor": 2
}
