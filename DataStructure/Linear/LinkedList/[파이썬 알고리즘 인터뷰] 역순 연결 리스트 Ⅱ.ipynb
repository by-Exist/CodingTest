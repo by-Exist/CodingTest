{
 "cells": [
  {
   "cell_type": "markdown",
   "metadata": {},
   "source": [
    "# \\[파이썬 알고리즘 인터뷰] 역순 연결 리스트 Ⅱ\n",
    "2021-12-19"
   ]
  },
  {
   "cell_type": "markdown",
   "metadata": {},
   "source": [
    "## ? Question\n",
    "\n",
    "인덱스 m(m>=1)에서 n까지 역순으로 만들어라.\n",
    "\n",
    "Input\n",
    "\n",
    "    1->2->3->4->5->None\n",
    "    m=2, n=4\n",
    "\n",
    "Output\n",
    "\n",
    "    1->4->3->2->5->None"
   ]
  },
  {
   "cell_type": "markdown",
   "metadata": {},
   "source": [
    "## ! Solution"
   ]
  },
  {
   "cell_type": "code",
   "execution_count": 1,
   "metadata": {},
   "outputs": [],
   "source": [
    "from __future__ import annotations\n",
    "\n",
    "\n",
    "class Node:\n",
    "\n",
    "    def __init__(self, value, next: Node = None):\n",
    "        self.value = value\n",
    "        self.next = next\n",
    "\n",
    "    def __repr__(self) -> str:\n",
    "        return f\"Node({self.value}, {self.next})\"\n",
    "\n",
    "\n",
    "def build_linked_list(iter):\n",
    "    temp = before = Node(...)\n",
    "    for e in iter:\n",
    "        before.next = Node(value=e)\n",
    "        before = before.next\n",
    "    return temp.next"
   ]
  },
  {
   "cell_type": "code",
   "execution_count": 25,
   "metadata": {},
   "outputs": [
    {
     "data": {
      "text/plain": [
       "Node(1, Node(5, Node(4, Node(3, Node(2, Node(6, None))))))"
      ]
     },
     "execution_count": 25,
     "metadata": {},
     "output_type": "execute_result"
    }
   ],
   "source": [
    "input_data = 1, 2, 3, 4, 5, 6\n",
    "input_linked_list = build_linked_list(input_data)\n",
    "input_m = 2\n",
    "input_n = 5\n",
    "\n",
    "def solution(head: Node, m: int, n: int):\n",
    "\n",
    "    if not head:\n",
    "        return head\n",
    "    \n",
    "    root = start = Node(...)\n",
    "    root.next = head\n",
    "\n",
    "    for _ in range(m-1):\n",
    "        start = start.next\n",
    "    end = start.next\n",
    "\n",
    "    for _ in range(n - m):\n",
    "        start.next, start.next.next, end.next = end.next, start.next, end.next.next\n",
    "    \n",
    "    return root.next\n",
    "\n",
    "solution(input_linked_list, input_m, input_n)"
   ]
  },
  {
   "cell_type": "markdown",
   "metadata": {},
   "source": [
    "## … Memo\n",
    "\n",
    "```\n",
    "1 -> 2 -> 3 -> 4 -> 5 -> 6\n",
    "s    e\n",
    "\n",
    "1 -> 3 -> 2 -> 4 -> 5 -> 6\n",
    "s         e\n",
    "\n",
    "1 -> 4 -> 3 -> 2 -> 5 -> 6\n",
    "s              e\n",
    "\n",
    "1 -> 5 -> 4 -> 3 -> 2 -> 6\n",
    "s                   e\n",
    "```\n",
    "\n",
    "- e.next는 s.next가 된다.\n",
    "- s.next는 s.next.next가 된다.\n",
    "- e.next.next는 e.next가 된다.\n",
    "\n",
    "이걸 캐치할 수 있는가가 해당 문제 풀이의 핵심이다. (난 못해~)"
   ]
  }
 ],
 "metadata": {
  "interpreter": {
   "hash": "c2628c66a632ba2b69e6a5b3a4dad634af81f317f443884fc2584f16d8e329ae"
  },
  "kernelspec": {
   "display_name": "Python 3.9.6 64-bit ('fastapi': conda)",
   "language": "python",
   "name": "python3"
  },
  "language_info": {
   "codemirror_mode": {
    "name": "ipython",
    "version": 3
   },
   "file_extension": ".py",
   "mimetype": "text/x-python",
   "name": "python",
   "nbconvert_exporter": "python",
   "pygments_lexer": "ipython3",
   "version": "3.9.6"
  },
  "orig_nbformat": 4
 },
 "nbformat": 4,
 "nbformat_minor": 2
}
