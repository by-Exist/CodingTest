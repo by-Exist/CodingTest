{
 "cells": [
  {
   "cell_type": "markdown",
   "metadata": {},
   "source": [
    "# \\[파이썬 알고리즘 인터뷰] 원형 Deque 디자인\n",
    "2021-12-23"
   ]
  },
  {
   "cell_type": "markdown",
   "metadata": {},
   "source": [
    "## ? Question\n",
    "\n",
    "다음 연산을 제공하는 원형 Deque를 디자인하라."
   ]
  },
  {
   "cell_type": "markdown",
   "metadata": {},
   "source": [
    "## ! Solution"
   ]
  },
  {
   "cell_type": "code",
   "execution_count": 32,
   "metadata": {},
   "outputs": [],
   "source": [
    "from __future__ import annotations\n",
    "from typing import TypeVar\n",
    "\n",
    "\n",
    "class Node:\n",
    "\n",
    "    def __init__(self, value, left: Node = None, right: Node = None):\n",
    "        self.value = value\n",
    "        self.left = left\n",
    "        self.right = right\n",
    "\n",
    "\n",
    "class CircularDeque:\n",
    "\n",
    "    def __init__(self, max_size: int):\n",
    "        self.head, self.tail = Node(None), Node(None)\n",
    "        self.head.right, self.tail.left = self.tail, self.head\n",
    "        self.max_size, self.size = max_size, 0\n",
    "    \n",
    "    def _insert(self, node: Node, new: Node):\n",
    "        first, third = node, node.right\n",
    "        new.left, new.right = first, third\n",
    "        first.right, third.left = new, new\n",
    "    \n",
    "    def _delete(self, node: Node):\n",
    "        first, third = node, node.right.right\n",
    "        first.right, third.left = third, first\n",
    "    \n",
    "    def insert_front(self, value: int) -> bool:\n",
    "        if self.size == self.max_size:\n",
    "            return False\n",
    "        self.size += 1\n",
    "        self._insert(self.head, Node(value))\n",
    "        return True\n",
    "    \n",
    "    def insert_last(self, value: int) -> bool:\n",
    "        if self.size == self.max_size:\n",
    "            return False\n",
    "        self.size += 1\n",
    "        self._insert(self.tail.left, Node(value))\n",
    "        return True\n",
    "    \n",
    "    def delete_front(self) -> bool:\n",
    "        if self.size == 0:\n",
    "            return False\n",
    "        self.size -= 1\n",
    "        self._delete(self.head)\n",
    "        return True\n",
    "\n",
    "    def delete_last(self) -> bool:\n",
    "        if self.size == 0:\n",
    "            return False\n",
    "        self.size -= 1\n",
    "        self._delete(self.tail.left.left)\n",
    "        return True\n",
    "    \n",
    "    def get_front(self):\n",
    "        return self.head.right.value if self.size else -1\n",
    "\n",
    "    def get_rear(self):\n",
    "        return self.tail.left.value if self.size else -1\n",
    "    \n",
    "    def is_empty(self) -> bool:\n",
    "        return self.size == 0\n",
    "\n",
    "    def is_full(self) -> bool:\n",
    "        return self.size == self.max_size\n",
    "\n",
    "\n",
    "if __name__ == \"__main__\":\n",
    "\n",
    "    circular_deque = CircularDeque(max_size=5)\n",
    "\n",
    "    circular_deque.insert_front(1)\n",
    "    circular_deque.insert_last(2)\n",
    "    circular_deque.insert_front(3)\n",
    "    circular_deque.insert_last(4)\n",
    "\n",
    "    assert circular_deque.insert_front(5) == True\n",
    "    assert circular_deque.insert_last(6) == False\n",
    "\n",
    "    assert circular_deque.get_front() == 5\n",
    "    assert circular_deque.get_rear() == 4\n",
    "    assert circular_deque.is_full() == True\n",
    "\n",
    "    circular_deque.delete_front()\n",
    "    circular_deque.delete_last()\n",
    "\n",
    "    assert circular_deque.get_front() == 3\n",
    "    assert circular_deque.get_rear() == 2\n",
    "\n",
    "    while circular_deque.delete_last():\n",
    "        ...\n",
    "    \n",
    "    assert circular_deque.is_empty() == True"
   ]
  },
  {
   "cell_type": "markdown",
   "metadata": {},
   "source": [
    "## … Memo\n",
    "\n",
    "이 문제는 \"원형 데크를 연결 리스트로도 구현할 수 있다!\" 정도로 이해해야 한다.\n",
    "\n",
    "연결 리스트는 원형의 이점(한정된, 고정된 메모리 영역을 순환하며 활용)을 잘 살리지 못한다. 단순히 풀이를 위한 구현인 셈이다."
   ]
  }
 ],
 "metadata": {
  "interpreter": {
   "hash": "c2628c66a632ba2b69e6a5b3a4dad634af81f317f443884fc2584f16d8e329ae"
  },
  "kernelspec": {
   "display_name": "Python 3.9.6 64-bit ('fastapi': conda)",
   "language": "python",
   "name": "python3"
  },
  "language_info": {
   "codemirror_mode": {
    "name": "ipython",
    "version": 3
   },
   "file_extension": ".py",
   "mimetype": "text/x-python",
   "name": "python",
   "nbconvert_exporter": "python",
   "pygments_lexer": "ipython3",
   "version": "3.9.6"
  },
  "orig_nbformat": 4
 },
 "nbformat": 4,
 "nbformat_minor": 2
}
