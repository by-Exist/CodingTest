{
 "cells": [
  {
   "cell_type": "markdown",
   "metadata": {},
   "source": [
    "# \\[파이썬 알고리즘 인터뷰] 역순 연결 리스트\n",
    "2021-12-08"
   ]
  },
  {
   "cell_type": "markdown",
   "metadata": {},
   "source": [
    "## ? Question\n",
    "\n",
    "연결 리스트를 뒤집어라.\n",
    "\n",
    "Input\n",
    "\n",
    "    1->2->3->4->5->None\n",
    "\n",
    "Output\n",
    "\n",
    "    5->4->3->2->1->None"
   ]
  },
  {
   "cell_type": "markdown",
   "metadata": {},
   "source": [
    "## ! Solution"
   ]
  },
  {
   "cell_type": "code",
   "execution_count": 2,
   "metadata": {},
   "outputs": [],
   "source": [
    "from __future__ import annotations\n",
    "\n",
    "class Node:\n",
    "\n",
    "    def __init__(self, value: int, next: Node = None) -> None:\n",
    "        self.value = value\n",
    "        self.next = next\n",
    "\n",
    "    def __repr__(self) -> str:\n",
    "        return f\"Node({self.value}, {self.next})\"\n",
    "\n",
    "\n",
    "def build_linked_list(iter):\n",
    "\n",
    "    head: Node = None\n",
    "    before_node: Node = None\n",
    "\n",
    "    for value in iter:\n",
    "        node = Node(value)\n",
    "        if not head:\n",
    "            head = node\n",
    "        if before_node:\n",
    "            before_node.next = node\n",
    "        before_node = node\n",
    "\n",
    "    return head"
   ]
  },
  {
   "cell_type": "code",
   "execution_count": 3,
   "metadata": {},
   "outputs": [
    {
     "data": {
      "text/plain": [
       "Node(5, Node(4, Node(3, Node(2, Node(1, None)))))"
      ]
     },
     "execution_count": 3,
     "metadata": {},
     "output_type": "execute_result"
    }
   ],
   "source": [
    "# 재귀 방식의 풀이\n",
    "\n",
    "data = [1, 2, 3, 4, 5]\n",
    "head_node = build_linked_list(data)\n",
    "\n",
    "# reverse(node, prev) =   ┌ next = node.next\n",
    "#                         ┌ node.next = prev\n",
    "#                       - reverse(next, node)    if node\n",
    "#                       - prev                   if not node\n",
    "\n",
    "def solution(head_node: Node | None):\n",
    "\n",
    "    def reverse(node: Node | None, prev: Node | None):\n",
    "        if node:\n",
    "            next = node.next\n",
    "            node.next = prev\n",
    "            return reverse(next, node)\n",
    "        return prev\n",
    "\n",
    "    return reverse(head_node, None)\n",
    "\n",
    "solution(head_node)"
   ]
  },
  {
   "cell_type": "code",
   "execution_count": 5,
   "metadata": {},
   "outputs": [
    {
     "data": {
      "text/plain": [
       "Node(5, Node(4, Node(3, Node(2, Node(1, None)))))"
      ]
     },
     "execution_count": 5,
     "metadata": {},
     "output_type": "execute_result"
    }
   ],
   "source": [
    "# 반복문 방식의 풀이\n",
    "\n",
    "data = [1, 2, 3, 4, 5]\n",
    "head_node = build_linked_list(data)\n",
    "\n",
    "def solution(head_node: Node | None):\n",
    "\n",
    "    node, prev = head_node, None\n",
    "\n",
    "    while node:\n",
    "        next = node.next\n",
    "        node.next = prev\n",
    "        prev, node = node, next\n",
    "    \n",
    "    return prev\n",
    "\n",
    "solution(head_node)"
   ]
  },
  {
   "cell_type": "markdown",
   "metadata": {},
   "source": [
    "## … Memo"
   ]
  }
 ],
 "metadata": {
  "interpreter": {
   "hash": "c2628c66a632ba2b69e6a5b3a4dad634af81f317f443884fc2584f16d8e329ae"
  },
  "kernelspec": {
   "display_name": "Python 3.9.6 64-bit ('fastapi': conda)",
   "language": "python",
   "name": "python3"
  },
  "language_info": {
   "codemirror_mode": {
    "name": "ipython",
    "version": 3
   },
   "file_extension": ".py",
   "mimetype": "text/x-python",
   "name": "python",
   "nbconvert_exporter": "python",
   "pygments_lexer": "ipython3",
   "version": "3.9.6"
  },
  "orig_nbformat": 4
 },
 "nbformat": 4,
 "nbformat_minor": 2
}
