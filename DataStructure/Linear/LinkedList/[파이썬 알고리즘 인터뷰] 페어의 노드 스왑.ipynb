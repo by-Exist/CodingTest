{
 "cells": [
  {
   "cell_type": "markdown",
   "metadata": {},
   "source": [
    "# \\[파이썬 알고리즘 인터뷰] 페어의 노드 스왑\n",
    "2021-12-09"
   ]
  },
  {
   "cell_type": "markdown",
   "metadata": {},
   "source": [
    "## ? Question\n",
    "\n",
    "연결 리스트를 입력받아 페어 단위로 스왑하라.\n",
    "\n",
    "Input\n",
    "\n",
    "    1 -> 2 -> 3 -> 4\n",
    "\n",
    "Output\n",
    "\n",
    "    2 -> 1 -> 4 -> 3"
   ]
  },
  {
   "cell_type": "markdown",
   "metadata": {},
   "source": [
    "## ! Solution"
   ]
  },
  {
   "cell_type": "code",
   "execution_count": 7,
   "metadata": {},
   "outputs": [],
   "source": [
    "from __future__ import annotations\n",
    "\n",
    "\n",
    "class Node:\n",
    "\n",
    "    def __init__(self, value: int, next: Node = None) -> None:\n",
    "        self.value = value\n",
    "        self.next = next\n",
    "\n",
    "    def __repr__(self) -> str:\n",
    "        return f\"Node({self.value}, {self.next})\"\n",
    "\n",
    "\n",
    "def build_linked_list(iter):\n",
    "    nodes : list[Node] = []\n",
    "    for index, value in enumerate(iter):\n",
    "        if index == 0:\n",
    "            nodes.append(Node(value))\n",
    "        else:\n",
    "            node = Node(value)\n",
    "            nodes.append(node)\n",
    "            nodes[index-1].next = node\n",
    "    return nodes[0]"
   ]
  },
  {
   "cell_type": "code",
   "execution_count": 8,
   "metadata": {},
   "outputs": [
    {
     "data": {
      "text/plain": [
       "Node(2, Node(1, Node(4, Node(3, None))))"
      ]
     },
     "execution_count": 8,
     "metadata": {},
     "output_type": "execute_result"
    }
   ],
   "source": [
    "# 값만 바꾸는 방법.\n",
    "# 어쩌면, value를 바꾸기보다 next를 바꾸는 방식으로 풀기를 요구할 수 있다.\n",
    "\n",
    "data = [1, 2, 3, 4]\n",
    "head_node = build_linked_list(data)\n",
    "\n",
    "def solution(cur: Node):\n",
    "    temp = cur\n",
    "    while cur and cur.next:\n",
    "        cur.value, cur.next.value = cur.next.value, cur.value\n",
    "        cur = cur.next.next\n",
    "    return temp\n",
    "\n",
    "solution(head_node)"
   ]
  },
  {
   "cell_type": "code",
   "execution_count": 24,
   "metadata": {},
   "outputs": [
    {
     "data": {
      "text/plain": [
       "Node(2, Node(1, Node(4, Node(3, None))))"
      ]
     },
     "execution_count": 24,
     "metadata": {},
     "output_type": "execute_result"
    }
   ],
   "source": [
    "# 반복문을 활용한 풀이\n",
    "\n",
    "data = [1, 2, 3, 4]\n",
    "head_node = build_linked_list(data)\n",
    "\n",
    "def solution(first: Node):\n",
    "\n",
    "    root = prev = Node(0)\n",
    "    prev.next = first\n",
    "\n",
    "    while first and (second:=first.next):\n",
    "        prev.next = second\n",
    "\n",
    "        third = second.next\n",
    "        second.next, first.next = first, third\n",
    "\n",
    "        prev, first = first, third\n",
    "    \n",
    "    return root.next\n",
    "\n",
    "solution(head_node)"
   ]
  },
  {
   "cell_type": "code",
   "execution_count": 36,
   "metadata": {},
   "outputs": [
    {
     "data": {
      "text/plain": [
       "Node(2, Node(1, Node(4, Node(3, None))))"
      ]
     },
     "execution_count": 36,
     "metadata": {},
     "output_type": "execute_result"
    }
   ],
   "source": [
    "# 재귀를 활용한 풀이.\n",
    "# 풀이법이 우아하다는게 무슨 소리인지 알 것 같다.\n",
    "\n",
    "data = [1, 2, 3, 4]\n",
    "head_node = build_linked_list(data)\n",
    "\n",
    "def solution(first: Node):\n",
    "    if first and (second:=first.next):\n",
    "        second.next, first.next = first, solution(second.next)\n",
    "        return second\n",
    "    return first\n",
    "\n",
    "solution(head_node)"
   ]
  },
  {
   "cell_type": "markdown",
   "metadata": {},
   "source": [
    "## … Memo"
   ]
  }
 ],
 "metadata": {
  "interpreter": {
   "hash": "c2628c66a632ba2b69e6a5b3a4dad634af81f317f443884fc2584f16d8e329ae"
  },
  "kernelspec": {
   "display_name": "Python 3.9.6 64-bit ('fastapi': conda)",
   "language": "python",
   "name": "python3"
  },
  "language_info": {
   "codemirror_mode": {
    "name": "ipython",
    "version": 3
   },
   "file_extension": ".py",
   "mimetype": "text/x-python",
   "name": "python",
   "nbconvert_exporter": "python",
   "pygments_lexer": "ipython3",
   "version": "3.9.6"
  },
  "orig_nbformat": 4
 },
 "nbformat": 4,
 "nbformat_minor": 2
}
