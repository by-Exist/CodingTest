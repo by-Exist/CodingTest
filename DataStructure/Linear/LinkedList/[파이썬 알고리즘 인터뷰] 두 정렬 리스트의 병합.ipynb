{
 "cells": [
  {
   "cell_type": "markdown",
   "metadata": {},
   "source": [
    "# \\[파이썬 알고리즘 인터뷰] 두 정렬 리스트의 병합\n",
    "2021-12-08"
   ]
  },
  {
   "cell_type": "markdown",
   "metadata": {},
   "source": [
    "## ? Question\n",
    "\n",
    "정렬되어 있는 두 연결 리스트 l1과 l2가 주어진다. 정렬을 유지한 채 l1에 l2를 병합하라.\n",
    "\n",
    "Input\n",
    "\n",
    "    1->2->4, 1->3->4\n",
    "\n",
    "Output\n",
    "\n",
    "    1->1->2->3->4->4"
   ]
  },
  {
   "cell_type": "markdown",
   "metadata": {},
   "source": [
    "## ! Solution"
   ]
  },
  {
   "cell_type": "code",
   "execution_count": 1,
   "metadata": {},
   "outputs": [],
   "source": [
    "from __future__ import annotations\n",
    "\n",
    "class Node:\n",
    "\n",
    "    def __init__(self, value: int, next: Node = None) -> None:\n",
    "        self.value = value\n",
    "        self.next = next\n",
    "\n",
    "    def __repr__(self) -> str:\n",
    "        return f\"Node({self.value}, {self.next})\"\n",
    "\n",
    "def build_linked_list(iter):\n",
    "    nodes : list[Node] = []\n",
    "    for index, value in enumerate(iter):\n",
    "        if index == 0:\n",
    "            nodes.append(Node(value))\n",
    "        else:\n",
    "            node = Node(value)\n",
    "            nodes.append(node)\n",
    "            nodes[index-1].next = node\n",
    "    return nodes[0]"
   ]
  },
  {
   "cell_type": "code",
   "execution_count": 2,
   "metadata": {},
   "outputs": [
    {
     "data": {
      "text/plain": [
       "Node(1, Node(1, Node(2, Node(3, Node(4, Node(4, None))))))"
      ]
     },
     "execution_count": 2,
     "metadata": {},
     "output_type": "execute_result"
    }
   ],
   "source": [
    "from typing import Optional\n",
    "\n",
    "data_1 = [1, 2, 4]\n",
    "data_2 = [1, 3, 4]\n",
    "\n",
    "head_1 = build_linked_list(data_1)\n",
    "head_2 = build_linked_list(data_2)\n",
    "\n",
    "def solution(first_head: Optional[Node], second_head: Optional[Node]):\n",
    "\n",
    "    if (first_head and second_head and first_head.value > second_head.value) \\\n",
    "        or (not first_head and second_head):\n",
    "        first_head, second_head = second_head, first_head\n",
    "\n",
    "    if first_head:\n",
    "        first_head.next = solution(first_head.next, second_head)\n",
    "\n",
    "    return first_head\n",
    "\n",
    "solution(head_1, head_2)"
   ]
  },
  {
   "cell_type": "markdown",
   "metadata": {},
   "source": [
    "## … Memo\n",
    "\n",
    "재귀를 활용한 풀이이다. 재귀 문제의 풀이에 대한 조언을 얻었다. [다음 글](https://blog.fupfin.com/?p=150)을 참고하자.\n",
    "\n",
    "위의 글에서 핵심은 이렇다. '흐름을 추적하려 들지 마라. 문제를 정의하는 식을 찾아내어 코드로 옮겨라.'"
   ]
  },
  {
   "cell_type": "code",
   "execution_count": 3,
   "metadata": {},
   "outputs": [],
   "source": [
    "# f(n) = ┌ 1           if n = 0\n",
    "#        └ f(n-1)*n    if n > 0\n",
    "\n",
    "def factorial(n):\n",
    "    if n == 0:\n",
    "        return 1\n",
    "    else:\n",
    "        return factorial(n-1) * n"
   ]
  },
  {
   "cell_type": "markdown",
   "metadata": {},
   "source": [
    "위의 조언을 받아들여 해당 문제를 풀이하면 다음과 같다."
   ]
  },
  {
   "cell_type": "code",
   "execution_count": 4,
   "metadata": {},
   "outputs": [
    {
     "data": {
      "text/plain": [
       "Node(1, Node(1, Node(2, Node(3, Node(4, Node(4, None))))))"
      ]
     },
     "execution_count": 4,
     "metadata": {},
     "output_type": "execute_result"
    }
   ],
   "source": [
    "# solution(f, s) =   ┌ f, s = s, f                          if (f.value > s.value) or (not f and s)\n",
    "#                    ┌ f.next = solution(f.next, s)         if f\n",
    "#                  - f                                      always\n",
    "\n",
    "def solution(f: Node, s: Node):\n",
    "    if (f and s and f.value > s.value) or (not f and s):\n",
    "        f, s = s, f\n",
    "    if f:\n",
    "        f.next = solution(f.next, s)\n",
    "    return f\n",
    "\n",
    "data_1 = [1, 2, 4]\n",
    "data_2 = [1, 3, 4]\n",
    "\n",
    "head_1 = build_linked_list(data_1)\n",
    "head_2 = build_linked_list(data_2)\n",
    "\n",
    "solution(head_1, head_2)"
   ]
  }
 ],
 "metadata": {
  "interpreter": {
   "hash": "c2628c66a632ba2b69e6a5b3a4dad634af81f317f443884fc2584f16d8e329ae"
  },
  "kernelspec": {
   "display_name": "Python 3.9.6 64-bit ('fastapi': conda)",
   "language": "python",
   "name": "python3"
  },
  "language_info": {
   "codemirror_mode": {
    "name": "ipython",
    "version": 3
   },
   "file_extension": ".py",
   "mimetype": "text/x-python",
   "name": "python",
   "nbconvert_exporter": "python",
   "pygments_lexer": "ipython3",
   "version": "3.9.6"
  },
  "orig_nbformat": 4
 },
 "nbformat": 4,
 "nbformat_minor": 2
}
