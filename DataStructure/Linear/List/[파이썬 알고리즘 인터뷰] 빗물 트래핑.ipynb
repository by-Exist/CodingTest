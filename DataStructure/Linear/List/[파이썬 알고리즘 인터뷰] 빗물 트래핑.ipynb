{
 "cells": [
  {
   "cell_type": "markdown",
   "metadata": {},
   "source": [
    "# \\[파이썬 알고리즘 인터뷰] 빗물 트래핑\n",
    "2021-12-03"
   ]
  },
  {
   "cell_type": "markdown",
   "metadata": {},
   "source": [
    "## ? Question\n",
    "\n",
    "높이를 입력받아 비가 온 후 얼마나 많은 물이 고일 수 있는지 계산하라.\n",
    "\n",
    "Input\n",
    "\n",
    "    [2, 0, 1, 0]\n",
    "\n",
    "Output\n",
    "\n",
    "    1\n",
    "    (2와 1 사이에 높이 1 만큼의 물이 고인다.)"
   ]
  },
  {
   "cell_type": "markdown",
   "metadata": {},
   "source": [
    "## ! Solution"
   ]
  },
  {
   "cell_type": "code",
   "execution_count": 19,
   "metadata": {},
   "outputs": [
    {
     "data": {
      "text/plain": [
       "6"
      ]
     },
     "execution_count": 19,
     "metadata": {},
     "output_type": "execute_result"
    }
   ],
   "source": [
    "input_heights = [0, 1, 0, 2, 1, 0, 1, 3, 2, 1, 2, 1]\n",
    "\n",
    "def solution(heights: list[int]) -> int:\n",
    "    if not heights:\n",
    "        return 0\n",
    "    \n",
    "    volume = 0\n",
    "    left_index, right_index = 0, len(heights)-1\n",
    "    left_max, right_max = heights[left_index], heights[right_index]\n",
    "\n",
    "    while left_index < right_index:\n",
    "        left_max = max(heights[left_index], left_max)\n",
    "        right_max = max(heights[right_index], right_max)\n",
    "\n",
    "        if left_max <= right_max:\n",
    "            volume += left_max - heights[left_index]\n",
    "            left_index += 1\n",
    "        else:\n",
    "            volume += right_max - heights[right_index]\n",
    "            right_index -= 1\n",
    "\n",
    "    return volume\n",
    "\n",
    "solution(input_heights)"
   ]
  },
  {
   "cell_type": "markdown",
   "metadata": {},
   "source": [
    "투포인터를 활용한 풀이. 해당 풀이법을 이해하려면 꽤나 오랜 시간이 필요하다.\n",
    "\n",
    "두 명의 등산가가 좌우에서 산을 등산한다고 치자. 오른쪽에서 등산을 하던 왼쪽에서 등산을 하던 정상까지만 도달하면 된다.\n",
    "\n",
    "두 등산가 모두 매 걸음마다 \"자신이 지나온 최고 높이\" - \"현재 높이\"를 결과값에 더한다. (이걸 캐치하는 것이 문제 풀이의 핵심)\n",
    "\n",
    "정상에서 두 등산가의 결과값을 합하면 답이 된다.\n",
    "\n",
    "여기에서, 최정상의 값을 미리 계산하는 것이 아니라 두 등산가(포인터)가 서로의 \"자신이 지나온 or 현재 서 있는 최고 높이\" 비교하면서 낮은 쪽이 높은 쪽으로 이동하다 보면 최정상으로 향하게 된다는 점을 떠올린다면 문제 풀이를 수행할 수 있게 된다."
   ]
  },
  {
   "cell_type": "markdown",
   "metadata": {},
   "source": [
    "## … Memo"
   ]
  }
 ],
 "metadata": {
  "interpreter": {
   "hash": "c2628c66a632ba2b69e6a5b3a4dad634af81f317f443884fc2584f16d8e329ae"
  },
  "kernelspec": {
   "display_name": "Python 3.9.6 64-bit ('fastapi': conda)",
   "language": "python",
   "name": "python3"
  },
  "language_info": {
   "codemirror_mode": {
    "name": "ipython",
    "version": 3
   },
   "file_extension": ".py",
   "mimetype": "text/x-python",
   "name": "python",
   "nbconvert_exporter": "python",
   "pygments_lexer": "ipython3",
   "version": "3.9.6"
  },
  "orig_nbformat": 4
 },
 "nbformat": 4,
 "nbformat_minor": 2
}
