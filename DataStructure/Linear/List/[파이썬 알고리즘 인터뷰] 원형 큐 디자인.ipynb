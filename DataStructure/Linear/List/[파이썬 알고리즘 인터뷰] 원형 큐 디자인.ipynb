{
 "cells": [
  {
   "cell_type": "markdown",
   "metadata": {},
   "source": [
    "# \\[파이썬 알고리즘 인터뷰] 원형 큐 디자인\n",
    "2021-12-22"
   ]
  },
  {
   "cell_type": "markdown",
   "metadata": {},
   "source": [
    "## ? Question\n",
    "\n",
    "리스트를 활용하여 원형 큐를 디자인하라.\n",
    "\n",
    "```\n",
    "circular_queue = CircularQueue(size=5)\n",
    "\n",
    "circular_queue.push(1)\n",
    "circular_queue.push(2)\n",
    "circular_queue.push(3)\n",
    "circular_queue.push(4)\n",
    "\n",
    "circular_queue.is_full()  # false\n",
    "\n",
    "circular_queue.pop()  # 1\n",
    "circular_queue.pop()  # 2\n",
    "```"
   ]
  },
  {
   "cell_type": "markdown",
   "metadata": {},
   "source": [
    "## ! Solution"
   ]
  },
  {
   "cell_type": "code",
   "execution_count": 21,
   "metadata": {},
   "outputs": [],
   "source": [
    "class CircularQueue:\n",
    "\n",
    "    def __init__(self, max_size: int):\n",
    "        self._queue = [None for _ in range(max_size)]\n",
    "        self._max_size = max_size\n",
    "        self._front_cur = 0\n",
    "        self._rear_cur = 0\n",
    "    \n",
    "    def enqueue(self, value):\n",
    "        if self._queue[self._rear_cur] is None:\n",
    "            self._queue[self._rear_cur] = value\n",
    "            self._rear_cur = (self._rear_cur + 1) % self._max_size\n",
    "            return True\n",
    "        else:\n",
    "            return False\n",
    "    \n",
    "    def dequeue(self):\n",
    "        if self._queue[self._front_cur] is None:\n",
    "            return False\n",
    "        else:\n",
    "            self._queue[self._front_cur] = None\n",
    "            self._front_cur = (self._front_cur + 1) % self._max_size\n",
    "            return True\n",
    "\n",
    "    def front(self):\n",
    "        return value \\\n",
    "            if (value := self._queue[self._front_cur]) is not None \\\n",
    "            else False\n",
    "\n",
    "    def rear(self):\n",
    "        return value \\\n",
    "            if (value := self._queue[self._rear_cur - 1]) is not None \\\n",
    "            else False\n",
    "    \n",
    "    def is_empty(self):\n",
    "        return self._front_cur == self._rear_cur \\\n",
    "            and self._queue[self._front_cur] is None\n",
    "    \n",
    "    def is_full(self):\n",
    "        return self._front_cur == self._rear_cur \\\n",
    "            and self._queue[self._front_cur] is not None\n",
    "\n",
    "\n",
    "\n",
    "if __name__ == \"__main__\":\n",
    "\n",
    "    circular_queue = CircularQueue(max_size=5)\n",
    "\n",
    "    circular_queue.enqueue(10)\n",
    "    circular_queue.enqueue(20)\n",
    "    circular_queue.enqueue(30)\n",
    "    circular_queue.enqueue(40)\n",
    "\n",
    "    assert circular_queue.front() == 10\n",
    "    assert circular_queue.rear() == 40\n",
    "    assert not circular_queue.is_full()\n",
    "\n",
    "    circular_queue.dequeue()\n",
    "    circular_queue.dequeue()\n",
    "    circular_queue.enqueue(50)\n",
    "    circular_queue.enqueue(60)\n",
    "\n",
    "    assert circular_queue.front() == 30\n",
    "    assert circular_queue.rear() == 60"
   ]
  },
  {
   "cell_type": "markdown",
   "metadata": {},
   "source": [
    "## … Memo\n",
    "\n",
    "None을 요소로 사용할 수 없다는 부분이 꺼림직하기는 한데, 그렇다고 별도의 상수를 하나 만들기를 요구할 정도의 코딩 테스트는 없을 것 같기도 하고.\n",
    "\n",
    "- 배열과 두 개의 포인터를 활용해 원형 큐를 구현할 수 있다.\n",
    "- 요소 추가 및 제거 수행마다 포인터를 이동시키는 것이 포인트. 나머지 연산이 사용된다."
   ]
  }
 ],
 "metadata": {
  "interpreter": {
   "hash": "c2628c66a632ba2b69e6a5b3a4dad634af81f317f443884fc2584f16d8e329ae"
  },
  "kernelspec": {
   "display_name": "Python 3.9.6 64-bit ('fastapi': conda)",
   "language": "python",
   "name": "python3"
  },
  "language_info": {
   "codemirror_mode": {
    "name": "ipython",
    "version": 3
   },
   "file_extension": ".py",
   "mimetype": "text/x-python",
   "name": "python",
   "nbconvert_exporter": "python",
   "pygments_lexer": "ipython3",
   "version": "3.9.6"
  },
  "orig_nbformat": 4
 },
 "nbformat": 4,
 "nbformat_minor": 2
}
