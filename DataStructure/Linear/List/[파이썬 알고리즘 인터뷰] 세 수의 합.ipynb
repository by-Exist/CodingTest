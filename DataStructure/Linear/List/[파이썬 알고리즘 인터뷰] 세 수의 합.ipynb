{
 "cells": [
  {
   "cell_type": "markdown",
   "metadata": {},
   "source": [
    "# \\[파이썬 알고리즘 인터뷰] 세 수의 합\n",
    "2021-12-05"
   ]
  },
  {
   "cell_type": "markdown",
   "metadata": {},
   "source": [
    "## ? Question\n",
    "\n",
    "정수 배열이 주어진다. \n",
    "\n",
    "아래의 조건을 만족시키는 [nums[i], nums[j], nums[k]]의 목록을 반환하라.\n",
    "- i != j != k\n",
    "- nums[i] + nums[j] + nums[k] = 0\n",
    "\n",
    "내부 구성 요소가 동일한 [nums[i], nums[j], nums[k]]일 경우 중복으로 판단하여 제외한다.\n",
    "\n",
    "Input\n",
    "\n",
    "    nums = [-1, 0, 1, 2, -1, -4]\n",
    "\n",
    "Output\n",
    "\n",
    "    [\n",
    "        [-1, 0, 1],\n",
    "        [-1, -1, 2]\n",
    "    ]"
   ]
  },
  {
   "cell_type": "markdown",
   "metadata": {},
   "source": [
    "## ! Solution"
   ]
  },
  {
   "cell_type": "code",
   "execution_count": 48,
   "metadata": {},
   "outputs": [
    {
     "data": {
      "text/plain": [
       "[[-1, -1, 2], [-1, 0, 1]]"
      ]
     },
     "execution_count": 48,
     "metadata": {},
     "output_type": "execute_result"
    }
   ],
   "source": [
    "input_numbers = [-1, 0, 1, 2, -1, -4]\n",
    "\n",
    "def solution(numbers: list[int]):\n",
    "    \n",
    "    result = []\n",
    "    sorted_numbers = sorted(numbers)\n",
    "\n",
    "    for first_index, first_number in enumerate(sorted_numbers):\n",
    "\n",
    "        # 사용된 적 없는 i만 사용된다.\n",
    "        if first_index > 0 and sorted_numbers[first_index-1] == first_number:\n",
    "            continue\n",
    "\n",
    "        second_index = first_index + 1\n",
    "        third_index = len(numbers) - 1\n",
    "\n",
    "        while second_index < third_index:\n",
    "            \n",
    "            second_number = sorted_numbers[second_index]\n",
    "            third_number = sorted_numbers[third_index]\n",
    "\n",
    "            sum_value = sum((first_number, second_number, third_number))\n",
    "            \n",
    "            if sum_value < 0:\n",
    "                second_index += 1\n",
    "                continue\n",
    "            elif sum_value > 0:\n",
    "                third_index -= 1\n",
    "                continue\n",
    "\n",
    "            result.append([first_number, second_number, third_number])\n",
    "\n",
    "            while second_index < third_index:\n",
    "                # 이미 사용된 j와 동일한 값은 건너뛴다.\n",
    "                if sorted_numbers[second_index] == sorted_numbers[second_index+1]:\n",
    "                    second_index += 1\n",
    "                    continue\n",
    "                # 이미 사용된 k와 동일한 값은 건너뛴다.\n",
    "                if sorted_numbers[third_index] == sorted_numbers[third_index-1]:\n",
    "                    third_index -= 1\n",
    "                    continue\n",
    "                second_index += 1\n",
    "                third_index -= 1\n",
    "                break\n",
    "\n",
    "    \n",
    "    return result\n",
    "\n",
    "solution(input_numbers)\n"
   ]
  },
  {
   "cell_type": "markdown",
   "metadata": {},
   "source": [
    "## … Memo\n",
    "\n",
    "투 포인터를 활용하여 풀이한다. \n",
    "\n",
    "정렬된 배열에 i < j < k를 만족시키는 인덱스 세 개를 활용하여, j는 i+1에서, k는 len(배열)-1에서 서로를 향해 좁혀가며 이동한다.\n",
    "\n",
    "결과의 중복된 값을 제외하는 로직을 적용시킬 수 있어야 풀이할 수 있을 것 같다."
   ]
  }
 ],
 "metadata": {
  "interpreter": {
   "hash": "c2628c66a632ba2b69e6a5b3a4dad634af81f317f443884fc2584f16d8e329ae"
  },
  "kernelspec": {
   "display_name": "Python 3.9.6 64-bit ('fastapi': conda)",
   "language": "python",
   "name": "python3"
  },
  "language_info": {
   "codemirror_mode": {
    "name": "ipython",
    "version": 3
   },
   "file_extension": ".py",
   "mimetype": "text/x-python",
   "name": "python",
   "nbconvert_exporter": "python",
   "pygments_lexer": "ipython3",
   "version": "3.9.6"
  },
  "orig_nbformat": 4
 },
 "nbformat": 4,
 "nbformat_minor": 2
}
