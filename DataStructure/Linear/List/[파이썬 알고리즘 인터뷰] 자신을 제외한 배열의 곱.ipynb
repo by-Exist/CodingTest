{
 "cells": [
  {
   "cell_type": "markdown",
   "metadata": {},
   "source": [
    "# \\[파이썬 알고리즘 인터뷰] 자신을 제외한 배열의 곱\n",
    "2021-12-05"
   ]
  },
  {
   "cell_type": "markdown",
   "metadata": {},
   "source": [
    "## ? Question\n",
    "\n",
    "배열 input을 입력받아 output[i]가 input[i] 요소를 제외한 나머지 input 요소의 곱셈 결과가 되도록 출력하라.\n",
    "\n",
    "- 나눗셈을 사용할 수 없다. \n",
    "- 시간복잡도 O(n)에 풀이해야 한다.\n",
    "- output을 제외한 공간복잡도 O(1)에도 풀이가 가능하다.\n",
    "\n",
    "Input\n",
    "\n",
    "    [1, 2, 3, 4]\n",
    "\n",
    "Output\n",
    "\n",
    "    [24, 12, 8, 6]"
   ]
  },
  {
   "cell_type": "markdown",
   "metadata": {},
   "source": [
    "## ! Solution"
   ]
  },
  {
   "cell_type": "code",
   "execution_count": 21,
   "metadata": {},
   "outputs": [
    {
     "data": {
      "text/plain": [
       "[24, 6, 8, 12]"
      ]
     },
     "execution_count": 21,
     "metadata": {},
     "output_type": "execute_result"
    }
   ],
   "source": [
    "input_numbers = [1, 4, 3, 2]\n",
    "\n",
    "def solution(numbers: list[str]):\n",
    "\n",
    "    left_mul_values = []\n",
    "    p = 1\n",
    "    for index in range(0, len(numbers)):\n",
    "        left_mul_values.append(p)\n",
    "        p = p * numbers[index]\n",
    "    \n",
    "    right_mul_values = [1 for _ in range(len(numbers))]\n",
    "    p = 1\n",
    "    for index in range(len(numbers)-1, 0-1, -1):\n",
    "        right_mul_values[index] = right_mul_values[index] * p\n",
    "        p = p * numbers[index]\n",
    "    \n",
    "    return [left * right for left, right in zip(left_mul_values, right_mul_values)]\n",
    "\n",
    "solution(input_numbers)"
   ]
  },
  {
   "cell_type": "code",
   "execution_count": 22,
   "metadata": {},
   "outputs": [
    {
     "data": {
      "text/plain": [
       "[24, 6, 8, 12]"
      ]
     },
     "execution_count": 22,
     "metadata": {},
     "output_type": "execute_result"
    }
   ],
   "source": [
    "input_numbers = [1, 4, 3, 2]\n",
    "\n",
    "def solution(numbers: list[str]):\n",
    "\n",
    "    output = []\n",
    "    p = 1\n",
    "    for index in range(0, len(numbers)):\n",
    "        output.append(p)\n",
    "        p = p * numbers[index]\n",
    "\n",
    "    p = 1\n",
    "    for index in range(len(numbers)-1, 0-1, -1):\n",
    "        output[index] = output[index] * p\n",
    "        p = p * numbers[index]\n",
    "    \n",
    "    return output\n",
    "\n",
    "solution(input_numbers)"
   ]
  },
  {
   "cell_type": "markdown",
   "metadata": {},
   "source": [
    "## … Memo\n",
    "\n",
    "우선 나눗셈이 불가능하다는 조건에서, 문제 풀이의 방법은 해당 인덱스의 왼쪽 값들의 곱 * 오른쪽 값들의 곱임을 알아채야 한다. 그리고, 머릿속에서 바로 그릴 수 없을 수도 있지만 아래와 같은 과정을 도출할 수 있어야 한다.\n",
    "\n",
    "```\n",
    "    [ 1,  2,  3,  4]     # numbers\n",
    "    [ 1,  2,  6  24]     # left_mul_numbers\n",
    "    [24, 24, 12,  4]     # right_mul_numbers\n",
    "\n",
    "      1 [ 1,  2,  6  24]   # left_mul_numbers\n",
    "[24, 24, 12,  4]  1        # right_mul_numbers\n",
    "    [24, 12,  8,  6]       # output\n",
    "```\n",
    "\n",
    "[1, 1, 2, 6]과 [24, 12, 4, 1]을 어떻게 구할 지 생각해낼 수 있어야 한다."
   ]
  }
 ],
 "metadata": {
  "interpreter": {
   "hash": "c2628c66a632ba2b69e6a5b3a4dad634af81f317f443884fc2584f16d8e329ae"
  },
  "kernelspec": {
   "display_name": "Python 3.9.6 64-bit ('fastapi': conda)",
   "language": "python",
   "name": "python3"
  },
  "language_info": {
   "codemirror_mode": {
    "name": "ipython",
    "version": 3
   },
   "file_extension": ".py",
   "mimetype": "text/x-python",
   "name": "python",
   "nbconvert_exporter": "python",
   "pygments_lexer": "ipython3",
   "version": "3.9.6"
  },
  "orig_nbformat": 4
 },
 "nbformat": 4,
 "nbformat_minor": 2
}
