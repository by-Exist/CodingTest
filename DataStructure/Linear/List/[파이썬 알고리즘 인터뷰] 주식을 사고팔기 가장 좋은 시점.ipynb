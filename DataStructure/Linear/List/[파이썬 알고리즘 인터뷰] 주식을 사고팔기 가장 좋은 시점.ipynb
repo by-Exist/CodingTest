{
 "cells": [
  {
   "cell_type": "markdown",
   "metadata": {},
   "source": [
    "# \\[파이썬 알고리즘 인터뷰] 주식을 사고팔기 가장 좋은 시점\n",
    "2021-12-05"
   ]
  },
  {
   "cell_type": "markdown",
   "metadata": {},
   "source": [
    "## ? Question\n",
    "\n",
    "한 번의 거래로 낼 수 있는 최대 이익을 산출하라.\n",
    "\n",
    "Input\n",
    "\n",
    "    [7, 1, 5, 3, 6, 4]\n",
    "\n",
    "Output\n",
    "\n",
    "    5\n",
    "    (6 - 1)"
   ]
  },
  {
   "cell_type": "markdown",
   "metadata": {},
   "source": [
    "## ! Solution"
   ]
  },
  {
   "cell_type": "code",
   "execution_count": 6,
   "metadata": {},
   "outputs": [
    {
     "data": {
      "text/plain": [
       "5"
      ]
     },
     "execution_count": 6,
     "metadata": {},
     "output_type": "execute_result"
    }
   ],
   "source": [
    "import sys\n",
    "\n",
    "input_numbers = [7, 1, 5, 3, 6, 4]\n",
    "\n",
    "def solution(numbers: list[int]):\n",
    "\n",
    "    lower = sys.maxsize\n",
    "    max_difference = 0\n",
    "    \n",
    "    for number in numbers:\n",
    "        \n",
    "        lower = min(lower, number)\n",
    "        max_difference = max(max_difference, number-lower)\n",
    "\n",
    "    return max_difference\n",
    "\n",
    "solution(input_numbers)"
   ]
  },
  {
   "cell_type": "markdown",
   "metadata": {},
   "source": [
    "## … Memo\n",
    "\n",
    "현재 값 - 현재까지의 최저값을 순차적으로 반복하여 구하면 풀 수 있는 쉬운 문제이다."
   ]
  }
 ],
 "metadata": {
  "interpreter": {
   "hash": "c2628c66a632ba2b69e6a5b3a4dad634af81f317f443884fc2584f16d8e329ae"
  },
  "kernelspec": {
   "display_name": "Python 3.9.6 64-bit ('fastapi': conda)",
   "language": "python",
   "name": "python3"
  },
  "language_info": {
   "codemirror_mode": {
    "name": "ipython",
    "version": 3
   },
   "file_extension": ".py",
   "mimetype": "text/x-python",
   "name": "python",
   "nbconvert_exporter": "python",
   "pygments_lexer": "ipython3",
   "version": "3.9.6"
  },
  "orig_nbformat": 4
 },
 "nbformat": 4,
 "nbformat_minor": 2
}
