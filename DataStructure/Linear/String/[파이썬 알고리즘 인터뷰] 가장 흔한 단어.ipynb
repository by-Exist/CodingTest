{
 "cells": [
  {
   "cell_type": "markdown",
   "metadata": {},
   "source": [
    "# \\[파이썬 알고리즘 인터뷰] 가장 흔한 단어\n",
    "2021-12-02"
   ]
  },
  {
   "cell_type": "markdown",
   "metadata": {},
   "source": [
    "## ? Question\n",
    "\n",
    "금지된 단어를 제외한 가장 흔하게 등장하는 단어를 출력하라. 대소문자를 구분하지 않으며, 구두점(마침표, 쉼표 등) 또한 무시한다.\n",
    "\n",
    "Input\n",
    "\n",
    "    paragraph = \"Bab hit a ball, the hit BALL flew far after it was hit.\"\n",
    "    banned = ['hit']\n",
    "\n",
    "Output\n",
    "\n",
    "    \"ball\""
   ]
  },
  {
   "cell_type": "markdown",
   "metadata": {},
   "source": [
    "## ! Solution"
   ]
  },
  {
   "cell_type": "code",
   "execution_count": 18,
   "metadata": {},
   "outputs": [
    {
     "data": {
      "text/plain": [
       "'ball'"
      ]
     },
     "execution_count": 18,
     "metadata": {},
     "output_type": "execute_result"
    }
   ],
   "source": [
    "import re\n",
    "from collections import Counter\n",
    "\n",
    "paragraph = \"Bab hit a ball, the hit BALL flew far after it was hit.\"\n",
    "banned = ['hit']\n",
    "\n",
    "def solution(paragraph: str, banned: list[str]):\n",
    "\n",
    "    banned_set = set(banned)\n",
    "\n",
    "    lowercase_paragraph_words = re.sub(r\"[^\\w ]\", \"\", paragraph).lower().split()\n",
    "    banned_paragraph_words = [s for s in lowercase_paragraph_words if s not in banned_set]\n",
    "    \n",
    "    counter = Counter(banned_paragraph_words)\n",
    "    return counter.most_common(1)[0][0]\n",
    "\n",
    "solution(paragraph, banned)"
   ]
  },
  {
   "cell_type": "markdown",
   "metadata": {},
   "source": [
    "## … Memo\n",
    "\n",
    "- collections.Conter 객체의 사용법을 모르면 조금 귀찮아진다."
   ]
  }
 ],
 "metadata": {
  "interpreter": {
   "hash": "c2628c66a632ba2b69e6a5b3a4dad634af81f317f443884fc2584f16d8e329ae"
  },
  "kernelspec": {
   "display_name": "Python 3.9.6 64-bit ('fastapi': conda)",
   "language": "python",
   "name": "python3"
  },
  "language_info": {
   "codemirror_mode": {
    "name": "ipython",
    "version": 3
   },
   "file_extension": ".py",
   "mimetype": "text/x-python",
   "name": "python",
   "nbconvert_exporter": "python",
   "pygments_lexer": "ipython3",
   "version": "3.9.6"
  },
  "orig_nbformat": 4
 },
 "nbformat": 4,
 "nbformat_minor": 2
}
