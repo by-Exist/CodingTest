{
 "cells": [
  {
   "cell_type": "markdown",
   "metadata": {},
   "source": [
    "# \\[파이썬 알고리즘 인터뷰] 로그파일 재정렬\n",
    "2021-12-02"
   ]
  },
  {
   "cell_type": "markdown",
   "metadata": {},
   "source": [
    "## ? Question\n",
    "\n",
    "로그를 재정렬하라. 기준은 다음과 같다.\n",
    "- 로그의 가장 앞 부분은 식별자이다.\n",
    "- 문자로 구성된 로그가 숫자 로그보다 앞에 위치한다.\n",
    "- 식별자는 순서에 영향을 미치지 않지만, 문자가 동일할 경우 식별자 순으로 정렬한다.\n",
    "- 숫자 로그는 입력 순서대로 정렬한다.\n",
    "\n",
    "Input\n",
    "\n",
    "    logs = [\n",
    "        'dig1 8 1 5 1',\n",
    "        'let1 art can',\n",
    "        'dig2 3 6',\n",
    "        'let2 own kit dig',\n",
    "        'let3 arg zero',\n",
    "    ]\n",
    "\n",
    "Output\n",
    "\n",
    "    [\n",
    "        'let1 art can',\n",
    "        'let3 arg zero',\n",
    "        'let2 own kit dig',\n",
    "        'dig1 8 1 5 1',\n",
    "        'dig2 3 6',\n",
    "    ]"
   ]
  },
  {
   "cell_type": "markdown",
   "metadata": {},
   "source": [
    "## ! Solution"
   ]
  },
  {
   "cell_type": "code",
   "execution_count": 24,
   "metadata": {},
   "outputs": [
    {
     "data": {
      "text/plain": [
       "['let1 art can',\n",
       " 'let3 art zero',\n",
       " 'let2 own kit dig',\n",
       " 'dig1 8 1 5 1',\n",
       " 'dig2 3 6']"
      ]
     },
     "execution_count": 24,
     "metadata": {},
     "output_type": "execute_result"
    }
   ],
   "source": [
    "input_logs = [\n",
    "    'dig1 8 1 5 1',\n",
    "    'let1 art can',\n",
    "    'dig2 3 6',\n",
    "    'let2 own kit dig',\n",
    "    'let3 art zero',\n",
    "]\n",
    "\n",
    "def solution(logs: List[str]):\n",
    "    string_logs, number_logs = [], []\n",
    "    for log in logs:\n",
    "        if log.split()[1].isdigit():\n",
    "            number_logs.append(log)\n",
    "        else:\n",
    "            string_logs.append(log)\n",
    "    \n",
    "    string_logs.sort(key=lambda log: (log.split()[1:], log.split()[0]))\n",
    "\n",
    "    return string_logs + number_logs\n",
    "\n",
    "solution(input_logs)"
   ]
  },
  {
   "cell_type": "code",
   "execution_count": 23,
   "metadata": {},
   "outputs": [
    {
     "data": {
      "text/plain": [
       "['let1 art can',\n",
       " 'let3 art zero',\n",
       " 'let2 own kit dig',\n",
       " 'dig1 8 1 5 1',\n",
       " 'dig2 3 6']"
      ]
     },
     "execution_count": 23,
     "metadata": {},
     "output_type": "execute_result"
    }
   ],
   "source": [
    "from typing import List\n",
    "from dataclasses import dataclass\n",
    "\n",
    "input_logs = [\n",
    "    'dig1 8 1 5 1',\n",
    "    'let1 art can',\n",
    "    'dig2 3 6',\n",
    "    'let2 own kit dig',\n",
    "    'let3 art zero',\n",
    "]\n",
    "\n",
    "@dataclass\n",
    "class Log:\n",
    "    id: str\n",
    "    data: str\n",
    "\n",
    "    def __str__(self):\n",
    "        return f\"{self.id} {self.data}\"\n",
    "\n",
    "def solution(logs: List[str]):\n",
    "    string_logs = []\n",
    "    number_logs = []\n",
    "\n",
    "    for log_string in logs:\n",
    "        log = Log(*log_string.split(\" \", maxsplit=1))\n",
    "        if log.data[0].isdigit():\n",
    "            number_logs.append(log)\n",
    "        else:\n",
    "            string_logs.append(log)\n",
    "    \n",
    "    string_logs.sort(key = lambda log: (log.data, log.id))\n",
    "\n",
    "    return [*(str(log) for log in string_logs), *(str(log) for log in number_logs)]\n",
    "\n",
    "solution(input_logs)"
   ]
  },
  {
   "cell_type": "markdown",
   "metadata": {},
   "source": [
    "## … Memo\n",
    "\n",
    "- sort에서 사용되는 key에서 튜플을 활용할 수 있다는 점을 모르면 접근하기 어려운 풀이 같기도 하다."
   ]
  }
 ],
 "metadata": {
  "interpreter": {
   "hash": "c2628c66a632ba2b69e6a5b3a4dad634af81f317f443884fc2584f16d8e329ae"
  },
  "kernelspec": {
   "display_name": "Python 3.9.6 64-bit ('fastapi': conda)",
   "language": "python",
   "name": "python3"
  },
  "language_info": {
   "codemirror_mode": {
    "name": "ipython",
    "version": 3
   },
   "file_extension": ".py",
   "mimetype": "text/x-python",
   "name": "python",
   "nbconvert_exporter": "python",
   "pygments_lexer": "ipython3",
   "version": "3.9.6"
  },
  "orig_nbformat": 4
 },
 "nbformat": 4,
 "nbformat_minor": 2
}
