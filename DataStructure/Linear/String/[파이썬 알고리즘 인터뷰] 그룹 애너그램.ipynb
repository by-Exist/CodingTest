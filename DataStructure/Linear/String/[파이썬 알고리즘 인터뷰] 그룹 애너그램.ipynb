{
 "cells": [
  {
   "cell_type": "markdown",
   "metadata": {},
   "source": [
    "# \\[파이썬 알고리즘 인터뷰] 그룹 애너그램\n",
    "2021-12-02"
   ]
  },
  {
   "cell_type": "markdown",
   "metadata": {},
   "source": [
    "## ? Question\n",
    "\n",
    "문자열 배열을 받아 애너그램 단위로 그룹핑하라. (애너그램이란 문자를 재배열하여 다른 뜻을 가진 단어로 바꾸는 것을 말한다.)\n",
    "\n",
    "Input\n",
    "\n",
    "    [\"eat\", \"tea\", \"tan\", \"ate\", \"nat\", \"bat\"]\n",
    "\n",
    "Output\n",
    "\n",
    "    [\n",
    "        [\"ate\", \"eat\", \"tea\"],\n",
    "        [\"nat\", \"tan\"],\n",
    "        [\"bat\"],\n",
    "    ]"
   ]
  },
  {
   "cell_type": "markdown",
   "metadata": {},
   "source": [
    "## ! Solution"
   ]
  },
  {
   "cell_type": "code",
   "execution_count": 16,
   "metadata": {},
   "outputs": [
    {
     "data": {
      "text/plain": [
       "[['eat', 'tea', 'ate'], ['tan', 'nat'], ['bat']]"
      ]
     },
     "execution_count": 16,
     "metadata": {},
     "output_type": "execute_result"
    }
   ],
   "source": [
    "input_words = [\"eat\", \"tea\", \"tan\", \"ate\", \"nat\", \"bat\"]\n",
    "\n",
    "def solution(words: list[str]):\n",
    "    temp: dict[str, list[str]] = {}\n",
    "    for word in words:\n",
    "        key = \"\".join(sorted([*word]))\n",
    "        if key not in temp:\n",
    "            temp[key] = []\n",
    "        temp[key].append(word)\n",
    "    \n",
    "    return list(temp.values())\n",
    "\n",
    "solution(input_words)"
   ]
  },
  {
   "cell_type": "code",
   "execution_count": 22,
   "metadata": {},
   "outputs": [
    {
     "data": {
      "text/plain": [
       "[['eat', 'tea', 'ate'], ['tan', 'nat'], ['bat']]"
      ]
     },
     "execution_count": 22,
     "metadata": {},
     "output_type": "execute_result"
    }
   ],
   "source": [
    "from collections import defaultdict\n",
    "\n",
    "input_words = [\"eat\", \"tea\", \"tan\", \"ate\", \"nat\", \"bat\"]\n",
    "\n",
    "def solution(words: list[str]):\n",
    "    anagrams = defaultdict(list)\n",
    "\n",
    "    for word in words:\n",
    "        anagrams[\"\".join(sorted(word))].append(word)\n",
    "    \n",
    "    return list(anagrams.values())\n",
    "\n",
    "solution(input_words)"
   ]
  },
  {
   "cell_type": "markdown",
   "metadata": {},
   "source": [
    "## … Memo\n",
    "\n",
    "- defaultdict를 사용할 시 조심해야 할 점이 있다.\n",
    "    - O : anagrams = defaultdict(list)\n",
    "    - X : anagrams = defaultdict(default_factory=list)\n",
    "- 괜히 보기좋게 한답시고 default_factory로 전달하면 뻑난다. 이런..."
   ]
  }
 ],
 "metadata": {
  "interpreter": {
   "hash": "c2628c66a632ba2b69e6a5b3a4dad634af81f317f443884fc2584f16d8e329ae"
  },
  "kernelspec": {
   "display_name": "Python 3.9.6 64-bit ('fastapi': conda)",
   "language": "python",
   "name": "python3"
  },
  "language_info": {
   "codemirror_mode": {
    "name": "ipython",
    "version": 3
   },
   "file_extension": ".py",
   "mimetype": "text/x-python",
   "name": "python",
   "nbconvert_exporter": "python",
   "pygments_lexer": "ipython3",
   "version": "3.9.6"
  },
  "orig_nbformat": 4
 },
 "nbformat": 4,
 "nbformat_minor": 2
}
