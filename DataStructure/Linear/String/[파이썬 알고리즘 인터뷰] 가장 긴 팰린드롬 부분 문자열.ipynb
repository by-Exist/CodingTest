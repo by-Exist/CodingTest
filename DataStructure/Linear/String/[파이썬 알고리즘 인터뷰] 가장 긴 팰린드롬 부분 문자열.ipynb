{
 "cells": [
  {
   "cell_type": "markdown",
   "metadata": {},
   "source": [
    "# \\[파이썬 알고리즘 인터뷰] 가장 긴 팰린드롬 부분 문자열\n",
    "2021-12-02"
   ]
  },
  {
   "cell_type": "markdown",
   "metadata": {},
   "source": [
    "## ? Question\n",
    "\n",
    "가장 긴 팰린드롬 부분 문자열을 출력하라.\n",
    "\n",
    "Input\n",
    "\n",
    "    \"babad\"\n",
    "\n",
    "Output\n",
    "\n",
    "    \"bab\"\n",
    "\n",
    "(\"aba\" 또한 정답으로 처리된다.)"
   ]
  },
  {
   "cell_type": "markdown",
   "metadata": {},
   "source": [
    "## ! Solution"
   ]
  },
  {
   "cell_type": "code",
   "execution_count": 2,
   "metadata": {},
   "outputs": [
    {
     "data": {
      "text/plain": [
       "'bab'"
      ]
     },
     "execution_count": 2,
     "metadata": {},
     "output_type": "execute_result"
    }
   ],
   "source": [
    "input_string = \"babad\"\n",
    "\n",
    "def expand(s: str, left: int, right: int) -> str:\n",
    "    # 슬라이싱 범위를 늘려가며 최대 길이의 팰린드롬을 찾는 로직\n",
    "    while left >= 0 and right <= len(s)-1 and s[left] == s[right]:\n",
    "        left -= 1\n",
    "        right += 1\n",
    "    # 조건에 부합하지 않을 때 이미 left와 right를 이미 증감시킨 상태임을 유념\n",
    "    return s[left+1:right]\n",
    "\n",
    "def solution(s: str):\n",
    "\n",
    "    # 조기 종료 조건\n",
    "    if len(s) <= 1 or s == s[::-1]:\n",
    "        return s\n",
    "    \n",
    "    # 결과\n",
    "    result = \"\"\n",
    "    for i in range(len(s) - 1):\n",
    "        result = max(\n",
    "            result, \n",
    "            expand(s, i, i+1), \n",
    "            expand(s, i, i+2), \n",
    "            key=len\n",
    "        )\n",
    "    \n",
    "    return result\n",
    "\n",
    "solution(input_string)"
   ]
  },
  {
   "cell_type": "markdown",
   "metadata": {},
   "source": [
    "## … Memo\n",
    "\n",
    "- expand 함수를 정의할 수 있는가 없는가가 문제를 풀수 있는가 없는가의 여부를 결정한다."
   ]
  }
 ],
 "metadata": {
  "interpreter": {
   "hash": "c2628c66a632ba2b69e6a5b3a4dad634af81f317f443884fc2584f16d8e329ae"
  },
  "kernelspec": {
   "display_name": "Python 3.9.6 64-bit ('fastapi': conda)",
   "language": "python",
   "name": "python3"
  },
  "language_info": {
   "codemirror_mode": {
    "name": "ipython",
    "version": 3
   },
   "file_extension": ".py",
   "mimetype": "text/x-python",
   "name": "python",
   "nbconvert_exporter": "python",
   "pygments_lexer": "ipython3",
   "version": "3.9.6"
  },
  "orig_nbformat": 4
 },
 "nbformat": 4,
 "nbformat_minor": 2
}
